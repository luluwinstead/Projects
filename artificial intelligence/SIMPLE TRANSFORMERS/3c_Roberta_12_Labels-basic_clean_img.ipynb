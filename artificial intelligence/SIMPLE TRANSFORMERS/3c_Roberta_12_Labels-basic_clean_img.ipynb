{
 "cells": [
  {
   "cell_type": "code",
   "execution_count": 3,
   "metadata": {},
   "outputs": [
    {
     "ename": "ModuleNotFoundError",
     "evalue": "No module named 'torch'",
     "output_type": "error",
     "traceback": [
      "\u001b[1;31m---------------------------------------------------------------------------\u001b[0m",
      "\u001b[1;31mModuleNotFoundError\u001b[0m                       Traceback (most recent call last)",
      "\u001b[1;32m<ipython-input-3-bd4923e909d4>\u001b[0m in \u001b[0;36m<module>\u001b[1;34m\u001b[0m\n\u001b[0;32m      1\u001b[0m \u001b[1;31m# import libraries\u001b[0m\u001b[1;33m\u001b[0m\u001b[1;33m\u001b[0m\u001b[1;33m\u001b[0m\u001b[0m\n\u001b[1;32m----> 2\u001b[1;33m \u001b[1;32mfrom\u001b[0m \u001b[0msimpletransformers\u001b[0m\u001b[1;33m.\u001b[0m\u001b[0mclassification\u001b[0m \u001b[1;32mimport\u001b[0m \u001b[0mMultiLabelClassificationModel\u001b[0m\u001b[1;33m\u001b[0m\u001b[1;33m\u001b[0m\u001b[0m\n\u001b[0m\u001b[0;32m      3\u001b[0m \u001b[1;32mimport\u001b[0m \u001b[0mpandas\u001b[0m \u001b[1;32mas\u001b[0m \u001b[0mpd\u001b[0m\u001b[1;33m\u001b[0m\u001b[1;33m\u001b[0m\u001b[0m\n\u001b[0;32m      4\u001b[0m \u001b[1;32mfrom\u001b[0m \u001b[0msklearn\u001b[0m\u001b[1;33m.\u001b[0m\u001b[0mmodel_selection\u001b[0m \u001b[1;32mimport\u001b[0m \u001b[0mtrain_test_split\u001b[0m\u001b[1;33m\u001b[0m\u001b[1;33m\u001b[0m\u001b[0m\n\u001b[0;32m      5\u001b[0m \u001b[1;32mfrom\u001b[0m \u001b[0msklearn\u001b[0m\u001b[1;33m.\u001b[0m\u001b[0mmetrics\u001b[0m \u001b[1;32mimport\u001b[0m \u001b[0mmultilabel_confusion_matrix\u001b[0m\u001b[1;33m\u001b[0m\u001b[1;33m\u001b[0m\u001b[0m\n",
      "\u001b[1;32m~\\Anaconda3\\lib\\site-packages\\simpletransformers\\classification\\__init__.py\u001b[0m in \u001b[0;36m<module>\u001b[1;34m\u001b[0m\n\u001b[1;32m----> 1\u001b[1;33m \u001b[1;32mfrom\u001b[0m \u001b[0msimpletransformers\u001b[0m\u001b[1;33m.\u001b[0m\u001b[0mclassification\u001b[0m\u001b[1;33m.\u001b[0m\u001b[0mclassification_model\u001b[0m \u001b[1;32mimport\u001b[0m \u001b[0mClassificationModel\u001b[0m\u001b[1;33m\u001b[0m\u001b[1;33m\u001b[0m\u001b[0m\n\u001b[0m\u001b[0;32m      2\u001b[0m from simpletransformers.classification.multi_label_classification_model import (\n\u001b[0;32m      3\u001b[0m     \u001b[0mMultiLabelClassificationModel\u001b[0m\u001b[1;33m,\u001b[0m\u001b[1;33m\u001b[0m\u001b[1;33m\u001b[0m\u001b[0m\n\u001b[0;32m      4\u001b[0m )\n\u001b[0;32m      5\u001b[0m from simpletransformers.classification.multi_modal_classification_model import (\n",
      "\u001b[1;32m~\\Anaconda3\\lib\\site-packages\\simpletransformers\\classification\\classification_model.py\u001b[0m in \u001b[0;36m<module>\u001b[1;34m\u001b[0m\n\u001b[0;32m     18\u001b[0m \u001b[1;32mimport\u001b[0m \u001b[0mnumpy\u001b[0m \u001b[1;32mas\u001b[0m \u001b[0mnp\u001b[0m\u001b[1;33m\u001b[0m\u001b[1;33m\u001b[0m\u001b[0m\n\u001b[0;32m     19\u001b[0m \u001b[1;32mimport\u001b[0m \u001b[0mpandas\u001b[0m \u001b[1;32mas\u001b[0m \u001b[0mpd\u001b[0m\u001b[1;33m\u001b[0m\u001b[1;33m\u001b[0m\u001b[0m\n\u001b[1;32m---> 20\u001b[1;33m \u001b[1;32mimport\u001b[0m \u001b[0mtorch\u001b[0m\u001b[1;33m\u001b[0m\u001b[1;33m\u001b[0m\u001b[0m\n\u001b[0m\u001b[0;32m     21\u001b[0m \u001b[1;32mfrom\u001b[0m \u001b[0mscipy\u001b[0m\u001b[1;33m.\u001b[0m\u001b[0mstats\u001b[0m \u001b[1;32mimport\u001b[0m \u001b[0mmode\u001b[0m\u001b[1;33m,\u001b[0m \u001b[0mpearsonr\u001b[0m\u001b[1;33m\u001b[0m\u001b[1;33m\u001b[0m\u001b[0m\n\u001b[0;32m     22\u001b[0m \u001b[1;32mfrom\u001b[0m \u001b[0mscipy\u001b[0m\u001b[1;33m.\u001b[0m\u001b[0mspecial\u001b[0m \u001b[1;32mimport\u001b[0m \u001b[0msoftmax\u001b[0m\u001b[1;33m\u001b[0m\u001b[1;33m\u001b[0m\u001b[0m\n",
      "\u001b[1;31mModuleNotFoundError\u001b[0m: No module named 'torch'"
     ]
    }
   ],
   "source": [
    "# import libraries\n",
    "from simpletransformers.classification import MultiLabelClassificationModel\n",
    "import pandas as pd\n",
    "from sklearn.model_selection import train_test_split\n",
    "from sklearn.metrics import multilabel_confusion_matrix\n",
    "from sklearn.metrics import confusion_matrix, ConfusionMatrixDisplay\n",
    "import matplotlib.pyplot as plt\n",
    "from sklearn.datasets import make_multilabel_classification\n",
    "from sklearn.tree import DecisionTreeClassifier"
   ]
  },
  {
   "cell_type": "code",
   "execution_count": 2,
   "metadata": {},
   "outputs": [
    {
     "name": "stdout",
     "output_type": "stream",
     "text": [
      "Collecting simpletransformers\n",
      "  Downloading simpletransformers-0.63.9-py3-none-any.whl (250 kB)\n",
      "Collecting tokenizers\n",
      "  Downloading tokenizers-0.13.1-cp38-cp38-win_amd64.whl (3.3 MB)\n",
      "Requirement already satisfied: requests in c:\\users\\laure\\anaconda3\\lib\\site-packages (from simpletransformers) (2.24.0)\n",
      "Requirement already satisfied: scipy in c:\\users\\laure\\anaconda3\\lib\\site-packages (from simpletransformers) (1.5.0)\n",
      "Collecting wandb>=0.10.32\n",
      "  Downloading wandb-0.13.4-py2.py3-none-any.whl (1.9 MB)\n",
      "Requirement already satisfied: numpy in c:\\users\\laure\\anaconda3\\lib\\site-packages (from simpletransformers) (1.19.5)\n",
      "Requirement already satisfied: pandas in c:\\users\\laure\\anaconda3\\lib\\site-packages (from simpletransformers) (1.0.5)\n",
      "Requirement already satisfied: tqdm>=4.47.0 in c:\\users\\laure\\anaconda3\\lib\\site-packages (from simpletransformers) (4.47.0)\n",
      "Collecting streamlit\n",
      "  Downloading streamlit-1.13.0-py2.py3-none-any.whl (9.2 MB)\n",
      "Collecting transformers>=4.6.0\n",
      "  Downloading transformers-4.22.2-py3-none-any.whl (4.9 MB)\n",
      "Collecting datasets\n",
      "  Downloading datasets-2.5.2-py3-none-any.whl (432 kB)\n",
      "Collecting seqeval\n",
      "  Downloading seqeval-1.2.2.tar.gz (43 kB)\n",
      "Requirement already satisfied: tensorboard in c:\\users\\laure\\anaconda3\\lib\\site-packages (from simpletransformers) (2.4.1)\n",
      "Requirement already satisfied: regex in c:\\users\\laure\\anaconda3\\lib\\site-packages (from simpletransformers) (2020.6.8)\n",
      "Requirement already satisfied: scikit-learn in c:\\users\\laure\\anaconda3\\lib\\site-packages (from simpletransformers) (0.23.1)\n",
      "Collecting sentencepiece\n",
      "  Downloading sentencepiece-0.1.97-cp38-cp38-win_amd64.whl (1.1 MB)\n",
      "Collecting tokenizers\n",
      "  Downloading tokenizers-0.12.1-cp38-cp38-win_amd64.whl (3.3 MB)\n",
      "Requirement already satisfied: filelock in c:\\users\\laure\\anaconda3\\lib\\site-packages (from transformers>=4.6.0->simpletransformers) (3.0.12)\n",
      "Requirement already satisfied: pyyaml>=5.1 in c:\\users\\laure\\anaconda3\\lib\\site-packages (from transformers>=4.6.0->simpletransformers) (5.3.1)\n",
      "Requirement already satisfied: packaging>=20.0 in c:\\users\\laure\\anaconda3\\lib\\site-packages (from transformers>=4.6.0->simpletransformers) (20.4)\n",
      "Collecting huggingface-hub<1.0,>=0.9.0\n",
      "  Downloading huggingface_hub-0.10.0-py3-none-any.whl (163 kB)\n",
      "Collecting typing-extensions>=3.7.4.3\n",
      "  Downloading typing_extensions-4.4.0-py3-none-any.whl (26 kB)\n",
      "Collecting packaging>=20.0\n",
      "  Downloading packaging-21.3-py3-none-any.whl (40 kB)\n",
      "Requirement already satisfied: pyparsing!=3.0.5,>=2.0.2 in c:\\users\\laure\\anaconda3\\lib\\site-packages (from packaging>=20.0->transformers>=4.6.0->simpletransformers) (2.4.7)\n",
      "Requirement already satisfied: protobuf!=4.0.*,!=4.21.0,<5,>=3.12.0 in c:\\users\\laure\\anaconda3\\lib\\site-packages (from wandb>=0.10.32->simpletransformers) (3.14.0)\n",
      "Collecting docker-pycreds>=0.4.0\n",
      "  Downloading docker_pycreds-0.4.0-py2.py3-none-any.whl (9.0 kB)\n",
      "Requirement already satisfied: psutil>=5.0.0 in c:\\users\\laure\\anaconda3\\lib\\site-packages (from wandb>=0.10.32->simpletransformers) (5.7.0)\n",
      "Collecting setproctitle\n",
      "  Downloading setproctitle-1.3.2-cp38-cp38-win_amd64.whl (11 kB)\n",
      "Collecting promise<3,>=2.0\n",
      "  Downloading promise-2.3.tar.gz (19 kB)\n",
      "Collecting GitPython>=1.0.0\n",
      "  Downloading GitPython-3.1.28-py3-none-any.whl (182 kB)\n",
      "Requirement already satisfied: six>=1.13.0 in c:\\users\\laure\\anaconda3\\lib\\site-packages (from wandb>=0.10.32->simpletransformers) (1.15.0)\n",
      "Requirement already satisfied: pathtools in c:\\users\\laure\\anaconda3\\lib\\site-packages (from wandb>=0.10.32->simpletransformers) (0.1.2)\n",
      "Collecting shortuuid>=0.5.0\n",
      "  Downloading shortuuid-1.0.9-py3-none-any.whl (9.4 kB)\n",
      "Requirement already satisfied: setuptools in c:\\users\\laure\\anaconda3\\lib\\site-packages (from wandb>=0.10.32->simpletransformers) (49.2.0.post20200714)\n",
      "Collecting sentry-sdk>=1.0.0\n",
      "  Downloading sentry_sdk-1.9.10-py2.py3-none-any.whl (162 kB)\n",
      "Requirement already satisfied: Click!=8.0.0,>=7.0 in c:\\users\\laure\\anaconda3\\lib\\site-packages (from wandb>=0.10.32->simpletransformers) (7.1.2)\n",
      "Collecting gitdb<5,>=4.0.1\n",
      "  Downloading gitdb-4.0.9-py3-none-any.whl (63 kB)\n",
      "Collecting smmap<6,>=3.0.1\n",
      "  Downloading smmap-5.0.0-py3-none-any.whl (24 kB)\n",
      "Requirement already satisfied: idna<3,>=2.5 in c:\\users\\laure\\anaconda3\\lib\\site-packages (from requests->simpletransformers) (2.10)\n",
      "Requirement already satisfied: urllib3!=1.25.0,!=1.25.1,<1.26,>=1.21.1 in c:\\users\\laure\\anaconda3\\lib\\site-packages (from requests->simpletransformers) (1.25.9)\n",
      "Requirement already satisfied: chardet<4,>=3.0.2 in c:\\users\\laure\\anaconda3\\lib\\site-packages (from requests->simpletransformers) (3.0.4)\n",
      "Requirement already satisfied: certifi>=2017.4.17 in c:\\users\\laure\\anaconda3\\lib\\site-packages (from requests->simpletransformers) (2021.10.8)\n",
      "Collecting sentry-sdk>=1.0.0\n",
      "  Downloading sentry_sdk-1.9.9-py2.py3-none-any.whl (162 kB)\n",
      "  Downloading sentry_sdk-1.9.8-py2.py3-none-any.whl (158 kB)\n",
      "  Downloading sentry_sdk-1.9.7-py2.py3-none-any.whl (157 kB)\n",
      "  Downloading sentry_sdk-1.9.6-py2.py3-none-any.whl (157 kB)\n",
      "  Downloading sentry_sdk-1.9.5-py2.py3-none-any.whl (157 kB)\n",
      "  Downloading sentry_sdk-1.9.4-py2.py3-none-any.whl (157 kB)\n",
      "  Downloading sentry_sdk-1.9.3-py2.py3-none-any.whl (157 kB)\n",
      "  Downloading sentry_sdk-1.9.2-py2.py3-none-any.whl (157 kB)\n",
      "  Downloading sentry_sdk-1.9.1-py2.py3-none-any.whl (157 kB)\n",
      "  Downloading sentry_sdk-1.9.0-py2.py3-none-any.whl (156 kB)\n",
      "Collecting multiprocess\n",
      "  Downloading multiprocess-0.70.13-py38-none-any.whl (131 kB)\n",
      "Collecting aiohttp\n",
      "  Downloading aiohttp-3.8.3-cp38-cp38-win_amd64.whl (324 kB)\n",
      "Collecting responses<0.19\n",
      "  Downloading responses-0.18.0-py3-none-any.whl (38 kB)\n",
      "Collecting dill<0.3.6\n",
      "  Downloading dill-0.3.5.1-py2.py3-none-any.whl (95 kB)\n",
      "Collecting xxhash\n",
      "  Downloading xxhash-3.0.0-cp38-cp38-win_amd64.whl (29 kB)\n",
      "Collecting tqdm>=4.47.0\n",
      "  Downloading tqdm-4.64.1-py2.py3-none-any.whl (78 kB)\n",
      "Collecting pyarrow>=6.0.0\n",
      "  Downloading pyarrow-9.0.0-cp38-cp38-win_amd64.whl (19.6 MB)\n",
      "Collecting fsspec[http]>=2021.11.1\n",
      "  Downloading fsspec-2022.8.2-py3-none-any.whl (140 kB)\n",
      "Collecting charset-normalizer<3.0,>=2.0\n",
      "  Downloading charset_normalizer-2.1.1-py3-none-any.whl (39 kB)\n",
      "Collecting yarl<2.0,>=1.0\n",
      "  Downloading yarl-1.8.1-cp38-cp38-win_amd64.whl (56 kB)\n",
      "Collecting multidict<7.0,>=4.5\n",
      "  Downloading multidict-6.0.2-cp38-cp38-win_amd64.whl (28 kB)\n",
      "Collecting frozenlist>=1.1.1\n",
      "  Downloading frozenlist-1.3.1-cp38-cp38-win_amd64.whl (34 kB)\n",
      "Collecting async-timeout<5.0,>=4.0.0a3\n",
      "  Downloading async_timeout-4.0.2-py3-none-any.whl (5.8 kB)\n",
      "Requirement already satisfied: attrs>=17.3.0 in c:\\users\\laure\\anaconda3\\lib\\site-packages (from aiohttp->datasets->simpletransformers) (19.3.0)\n",
      "Collecting aiosignal>=1.1.2\n",
      "  Downloading aiosignal-1.2.0-py3-none-any.whl (8.2 kB)\n",
      "Collecting urllib3!=1.25.0,!=1.25.1,<1.26,>=1.21.1\n",
      "  Downloading urllib3-1.25.11-py2.py3-none-any.whl (127 kB)\n",
      "Requirement already satisfied: colorama in c:\\users\\laure\\anaconda3\\lib\\site-packages (from tqdm>=4.47.0->simpletransformers) (0.4.3)\n",
      "Requirement already satisfied: python-dateutil>=2.6.1 in c:\\users\\laure\\anaconda3\\lib\\site-packages (from pandas->simpletransformers) (2.8.1)\n",
      "Requirement already satisfied: pytz>=2017.2 in c:\\users\\laure\\anaconda3\\lib\\site-packages (from pandas->simpletransformers) (2020.1)\n",
      "Requirement already satisfied: joblib>=0.11 in c:\\users\\laure\\anaconda3\\lib\\site-packages (from scikit-learn->simpletransformers) (0.16.0)\n",
      "Requirement already satisfied: threadpoolctl>=2.0.0 in c:\\users\\laure\\anaconda3\\lib\\site-packages (from scikit-learn->simpletransformers) (2.1.0)\n",
      "Requirement already satisfied: toml in c:\\users\\laure\\anaconda3\\lib\\site-packages (from streamlit->simpletransformers) (0.10.1)\n",
      "Collecting altair>=3.2.0\n",
      "  Downloading altair-4.2.0-py3-none-any.whl (812 kB)\n",
      "Requirement already satisfied: tornado>=5.0 in c:\\users\\laure\\anaconda3\\lib\\site-packages (from streamlit->simpletransformers) (6.0.4)\n",
      "Requirement already satisfied: cachetools>=4.0 in c:\\users\\laure\\anaconda3\\lib\\site-packages (from streamlit->simpletransformers) (4.2.1)\n",
      "Collecting pydeck>=0.1.dev5\n",
      "  Downloading pydeck-0.8.0b3-py2.py3-none-any.whl (4.7 MB)\n",
      "Requirement already satisfied: pillow>=6.2.0 in c:\\users\\laure\\anaconda3\\lib\\site-packages (from streamlit->simpletransformers) (7.2.0)\n",
      "Collecting semver\n",
      "  Downloading semver-2.13.0-py2.py3-none-any.whl (12 kB)\n",
      "Collecting validators>=0.2\n",
      "  Downloading validators-0.20.0.tar.gz (30 kB)\n",
      "Collecting rich>=10.11.0\n",
      "  Downloading rich-12.6.0-py3-none-any.whl (237 kB)\n",
      "Collecting pympler>=0.9\n",
      "  Downloading Pympler-1.0.1-py3-none-any.whl (164 kB)\n",
      "Requirement already satisfied: watchdog in c:\\users\\laure\\anaconda3\\lib\\site-packages (from streamlit->simpletransformers) (0.10.3)\n",
      "Collecting tzlocal>=1.1\n",
      "  Downloading tzlocal-4.2-py3-none-any.whl (19 kB)\n",
      "Collecting blinker>=1.0.0\n",
      "  Downloading blinker-1.5-py2.py3-none-any.whl (12 kB)\n",
      "Requirement already satisfied: importlib-metadata>=1.4 in c:\\users\\laure\\anaconda3\\lib\\site-packages (from streamlit->simpletransformers) (1.7.0)\n",
      "Requirement already satisfied: entrypoints in c:\\users\\laure\\anaconda3\\lib\\site-packages (from altair>=3.2.0->streamlit->simpletransformers) (0.3)\n",
      "Requirement already satisfied: jinja2 in c:\\users\\laure\\anaconda3\\lib\\site-packages (from altair>=3.2.0->streamlit->simpletransformers) (2.11.2)\n",
      "Requirement already satisfied: jsonschema>=3.0 in c:\\users\\laure\\anaconda3\\lib\\site-packages (from altair>=3.2.0->streamlit->simpletransformers) (3.2.0)\n",
      "Requirement already satisfied: toolz in c:\\users\\laure\\anaconda3\\lib\\site-packages (from altair>=3.2.0->streamlit->simpletransformers) (0.10.0)\n",
      "Requirement already satisfied: zipp>=0.5 in c:\\users\\laure\\anaconda3\\lib\\site-packages (from importlib-metadata>=1.4->streamlit->simpletransformers) (3.1.0)\n",
      "Requirement already satisfied: pyrsistent>=0.14.0 in c:\\users\\laure\\anaconda3\\lib\\site-packages (from jsonschema>=3.0->altair>=3.2.0->streamlit->simpletransformers) (0.16.0)Note: you may need to restart the kernel to use updated packages.\n"
     ]
    },
    {
     "name": "stderr",
     "output_type": "stream",
     "text": [
      "ERROR: pip's dependency resolver does not currently take into account all the packages that are installed. This behaviour is the source of the following dependency conflicts.\n",
      "conda 4.12.0 requires ruamel_yaml_conda>=0.11.14, which is not installed.\n",
      "tensorflow 2.4.1 requires typing-extensions~=3.7.4, but you have typing-extensions 4.4.0 which is incompatible.\n"
     ]
    },
    {
     "name": "stdout",
     "output_type": "stream",
     "text": [
      "\n",
      "Requirement already satisfied: MarkupSafe>=0.23 in c:\\users\\laure\\anaconda3\\lib\\site-packages (from jinja2->altair>=3.2.0->streamlit->simpletransformers) (1.1.1)\n",
      "Collecting commonmark<0.10.0,>=0.9.0\n",
      "  Downloading commonmark-0.9.1-py2.py3-none-any.whl (51 kB)\n",
      "Requirement already satisfied: pygments<3.0.0,>=2.6.0 in c:\\users\\laure\\anaconda3\\lib\\site-packages (from rich>=10.11.0->streamlit->simpletransformers) (2.6.1)\n",
      "Collecting tzdata\n",
      "  Downloading tzdata-2022.4-py2.py3-none-any.whl (336 kB)\n",
      "Collecting pytz-deprecation-shim\n",
      "  Downloading pytz_deprecation_shim-0.1.0.post0-py2.py3-none-any.whl (15 kB)\n",
      "Collecting backports.zoneinfo\n",
      "  Downloading backports.zoneinfo-0.2.1-cp38-cp38-win_amd64.whl (38 kB)\n",
      "Requirement already satisfied: decorator>=3.4.0 in c:\\users\\laure\\anaconda3\\lib\\site-packages (from validators>=0.2->streamlit->simpletransformers) (4.4.2)\n",
      "Requirement already satisfied: google-auth<2,>=1.6.3 in c:\\users\\laure\\anaconda3\\lib\\site-packages (from tensorboard->simpletransformers) (1.26.0)\n",
      "Requirement already satisfied: google-auth-oauthlib<0.5,>=0.4.1 in c:\\users\\laure\\anaconda3\\lib\\site-packages (from tensorboard->simpletransformers) (0.4.2)\n",
      "Requirement already satisfied: werkzeug>=0.11.15 in c:\\users\\laure\\anaconda3\\lib\\site-packages (from tensorboard->simpletransformers) (1.0.1)\n",
      "Requirement already satisfied: absl-py>=0.4 in c:\\users\\laure\\anaconda3\\lib\\site-packages (from tensorboard->simpletransformers) (0.11.0)\n",
      "Requirement already satisfied: grpcio>=1.24.3 in c:\\users\\laure\\anaconda3\\lib\\site-packages (from tensorboard->simpletransformers) (1.32.0)\n",
      "Requirement already satisfied: wheel>=0.26 in c:\\users\\laure\\anaconda3\\lib\\site-packages (from tensorboard->simpletransformers) (0.37.1)\n",
      "Requirement already satisfied: tensorboard-plugin-wit>=1.6.0 in c:\\users\\laure\\anaconda3\\lib\\site-packages (from tensorboard->simpletransformers) (1.8.0)\n",
      "Requirement already satisfied: markdown>=2.6.8 in c:\\users\\laure\\anaconda3\\lib\\site-packages (from tensorboard->simpletransformers) (3.3.3)\n",
      "Requirement already satisfied: rsa<5,>=3.1.4 in c:\\users\\laure\\anaconda3\\lib\\site-packages (from google-auth<2,>=1.6.3->tensorboard->simpletransformers) (4.7)\n",
      "Requirement already satisfied: pyasn1-modules>=0.2.1 in c:\\users\\laure\\anaconda3\\lib\\site-packages (from google-auth<2,>=1.6.3->tensorboard->simpletransformers) (0.2.8)\n",
      "Requirement already satisfied: requests-oauthlib>=0.7.0 in c:\\users\\laure\\anaconda3\\lib\\site-packages (from google-auth-oauthlib<0.5,>=0.4.1->tensorboard->simpletransformers) (1.3.0)\n",
      "Requirement already satisfied: pyasn1<0.5.0,>=0.4.6 in c:\\users\\laure\\anaconda3\\lib\\site-packages (from pyasn1-modules>=0.2.1->google-auth<2,>=1.6.3->tensorboard->simpletransformers) (0.4.8)\n",
      "Requirement already satisfied: oauthlib>=3.0.0 in c:\\users\\laure\\anaconda3\\lib\\site-packages (from requests-oauthlib>=0.7.0->google-auth-oauthlib<0.5,>=0.4.1->tensorboard->simpletransformers) (3.1.0)\n",
      "Building wheels for collected packages: promise, seqeval, validators\n",
      "  Building wheel for promise (setup.py): started\n",
      "  Building wheel for promise (setup.py): finished with status 'done'\n",
      "  Created wheel for promise: filename=promise-2.3-py3-none-any.whl size=21494 sha256=a80a0d3e703aa7b6ef7fb5cbb963fd1e63da8d284c3ea7b0879fda08771e8e38\n",
      "  Stored in directory: c:\\users\\laure\\appdata\\local\\pip\\cache\\wheels\\54\\aa\\01\\724885182f93150035a2a91bce34a12877e8067a97baaf5dc8\n",
      "  Building wheel for seqeval (setup.py): started\n",
      "  Building wheel for seqeval (setup.py): finished with status 'done'\n",
      "  Created wheel for seqeval: filename=seqeval-1.2.2-py3-none-any.whl size=16170 sha256=0d90943a2b6b3bbd80f2130bc3b77dbaa8246c519d4d0273101cf6ea22cac3d4\n",
      "  Stored in directory: c:\\users\\laure\\appdata\\local\\pip\\cache\\wheels\\ad\\5c\\ba\\05fa33fa5855777b7d686e843ec07452f22a66a138e290e732\n",
      "  Building wheel for validators (setup.py): started\n",
      "  Building wheel for validators (setup.py): finished with status 'done'\n",
      "  Created wheel for validators: filename=validators-0.20.0-py3-none-any.whl size=19567 sha256=0b1ed31de730e4774f7bb3a99bf625771ad6c5171fa3f3018ceb717c983224d6\n",
      "  Stored in directory: c:\\users\\laure\\appdata\\local\\pip\\cache\\wheels\\19\\09\\72\\3eb74d236bb48bd0f3c6c3c83e4e0c5bbfcbcad7c6c3539db8\n",
      "Successfully built promise seqeval validators\n",
      "Installing collected packages: urllib3, multidict, frozenlist, yarl, tzdata, smmap, charset-normalizer, backports.zoneinfo, async-timeout, aiosignal, typing-extensions, tqdm, pytz-deprecation-shim, packaging, gitdb, fsspec, dill, commonmark, aiohttp, xxhash, validators, tzlocal, tokenizers, shortuuid, setproctitle, sentry-sdk, semver, rich, responses, pympler, pydeck, pyarrow, promise, multiprocess, huggingface-hub, GitPython, docker-pycreds, blinker, altair, wandb, transformers, streamlit, seqeval, sentencepiece, datasets, simpletransformers\n",
      "  Attempting uninstall: urllib3\n",
      "    Found existing installation: urllib3 1.25.9\n",
      "    Uninstalling urllib3-1.25.9:\n",
      "      Successfully uninstalled urllib3-1.25.9\n",
      "  Attempting uninstall: typing-extensions\n",
      "    Found existing installation: typing-extensions 3.7.4.2\n",
      "    Uninstalling typing-extensions-3.7.4.2:\n",
      "      Successfully uninstalled typing-extensions-3.7.4.2\n",
      "  Attempting uninstall: tqdm\n",
      "    Found existing installation: tqdm 4.47.0\n",
      "    Uninstalling tqdm-4.47.0:\n",
      "      Successfully uninstalled tqdm-4.47.0\n",
      "  Attempting uninstall: packaging\n",
      "    Found existing installation: packaging 20.4\n",
      "    Uninstalling packaging-20.4:\n",
      "      Successfully uninstalled packaging-20.4\n",
      "  Attempting uninstall: fsspec\n",
      "    Found existing installation: fsspec 0.7.4\n",
      "    Uninstalling fsspec-0.7.4:\n",
      "      Successfully uninstalled fsspec-0.7.4\n",
      "Successfully installed GitPython-3.1.28 aiohttp-3.8.3 aiosignal-1.2.0 altair-4.2.0 async-timeout-4.0.2 backports.zoneinfo-0.2.1 blinker-1.5 charset-normalizer-2.1.1 commonmark-0.9.1 datasets-2.5.2 dill-0.3.5.1 docker-pycreds-0.4.0 frozenlist-1.3.1 fsspec-2022.8.2 gitdb-4.0.9 huggingface-hub-0.10.0 multidict-6.0.2 multiprocess-0.70.13 packaging-21.3 promise-2.3 pyarrow-9.0.0 pydeck-0.8.0b3 pympler-1.0.1 pytz-deprecation-shim-0.1.0.post0 responses-0.18.0 rich-12.6.0 semver-2.13.0 sentencepiece-0.1.97 sentry-sdk-1.9.0 seqeval-1.2.2 setproctitle-1.3.2 shortuuid-1.0.9 simpletransformers-0.63.9 smmap-5.0.0 streamlit-1.13.0 tokenizers-0.12.1 tqdm-4.64.1 transformers-4.22.2 typing-extensions-4.4.0 tzdata-2022.4 tzlocal-4.2 urllib3-1.25.11 validators-0.20.0 wandb-0.13.4 xxhash-3.0.0 yarl-1.8.1\n"
     ]
    }
   ],
   "source": [
    "pip install simpletransformers"
   ]
  },
  {
   "cell_type": "code",
   "execution_count": 58,
   "metadata": {},
   "outputs": [],
   "source": [
    "# Update to 10 Categories\n",
    "## Pull in raw data\n",
    "# this is the file with \n",
    "#one git file change per line\n",
    "df_ccxp_raw=pd.read_csv(r'CCXP_Jira_Github_Commit_Dataset_20220823.csv') \n",
    "## drop rows where summary and descriptions columns are blank -- these are not bugs per Paul\n",
    "df_ccxp_raw_new=df_ccxp_raw.dropna(subset=['summary','description'], how='all')"
   ]
  },
  {
   "cell_type": "code",
   "execution_count": 3,
   "metadata": {},
   "outputs": [],
   "source": [
    "#df_ccxp_raw_new.head()"
   ]
  },
  {
   "cell_type": "code",
   "execution_count": 4,
   "metadata": {},
   "outputs": [
    {
     "name": "stdout",
     "output_type": "stream",
     "text": [
      "Unique files for CCXP raw dataset:  3005\n",
      "Unique jira tickets for CCXP bugs dataset 385\n"
     ]
    }
   ],
   "source": [
    "# Number of unique files with bugs from ccxp raw\n",
    "print('Unique files for CCXP raw dataset: ',df_ccxp_raw_new['filename'].nunique())\n",
    "print('Unique jira tickets for CCXP bugs dataset',df_ccxp_raw_new['jira_ticket'].nunique())"
   ]
  },
  {
   "cell_type": "code",
   "execution_count": 5,
   "metadata": {},
   "outputs": [],
   "source": [
    "df_ccxp_raw_new1=df_ccxp_raw_new"
   ]
  },
  {
   "cell_type": "code",
   "execution_count": 6,
   "metadata": {},
   "outputs": [
    {
     "name": "stderr",
     "output_type": "stream",
     "text": [
      "C:\\Users\\laurenwinstead_la\\AppData\\Local\\Temp\\ipykernel_48244\\570337101.py:1: FutureWarning: The default value of regex will change from True to False in a future version.\n",
      "  df_ccxp_raw_new1['description']=df_ccxp_raw_new1['description'].str.replace(r'\\r', ' ')\n",
      "C:\\Users\\laurenwinstead_la\\AppData\\Local\\Temp\\ipykernel_48244\\570337101.py:2: FutureWarning: The default value of regex will change from True to False in a future version.\n",
      "  df_ccxp_raw_new1['description']= df_ccxp_raw_new1['description'].str.replace(r'\\n', ' ')\n"
     ]
    }
   ],
   "source": [
    "df_ccxp_raw_new1['description']=df_ccxp_raw_new1['description'].str.replace(r'\\r', ' ')\n",
    "df_ccxp_raw_new1['description']= df_ccxp_raw_new1['description'].str.replace(r'\\n', ' ')     "
   ]
  },
  {
   "cell_type": "code",
   "execution_count": 7,
   "metadata": {},
   "outputs": [],
   "source": [
    "#df_ccxp_raw_new1.description.values"
   ]
  },
  {
   "cell_type": "code",
   "execution_count": 8,
   "metadata": {},
   "outputs": [],
   "source": [
    "# Remove images embedded in description"
   ]
  },
  {
   "cell_type": "code",
   "execution_count": 9,
   "metadata": {},
   "outputs": [
    {
     "name": "stderr",
     "output_type": "stream",
     "text": [
      "C:\\Users\\laurenwinstead_la\\AppData\\Local\\Temp\\ipykernel_48244\\1251986576.py:1: FutureWarning: The default value of regex will change from True to False in a future version.\n",
      "  df_ccxp_raw_new1['description']= df_ccxp_raw_new1['description'].str.replace(r'([-\\w]+\\.(?:jpg|gif|png|jpeg|.mov))','image')\n"
     ]
    }
   ],
   "source": [
    " df_ccxp_raw_new1['description']= df_ccxp_raw_new1['description'].str.replace(r'([-\\w]+\\.(?:jpg|gif|png|jpeg|.mov))','image')"
   ]
  },
  {
   "cell_type": "code",
   "execution_count": 10,
   "metadata": {},
   "outputs": [],
   "source": [
    "#df_training.values\n",
    "#Later split two words apart where second word is uppercase (before next line)\n",
    "# convert to lowercase:\n",
    "df_ccxp_raw_new1['description']=df_ccxp_raw_new['description'].str.lower()\n",
    "df_ccxp_raw_new1['summary']=df_ccxp_raw_new['summary'].str.lower()\n",
    "\n",
    "df_ccxp_raw_new1['description']=df_ccxp_raw_new['description'].str.strip()\n",
    "df_ccxp_raw_new1['summary']=df_ccxp_raw_new['summary'].str.strip()"
   ]
  },
  {
   "cell_type": "code",
   "execution_count": 59,
   "metadata": {},
   "outputs": [
    {
     "name": "stdout",
     "output_type": "stream",
     "text": [
      "Count of distinct values per column:  project_url               0\n",
      "project_description       0\n",
      "project_name              1\n",
      "project_lead              1\n",
      "project_type              1\n",
      "project_key               1\n",
      "resolution                1\n",
      "issue_type                1\n",
      "status                    4\n",
      "jira_status               4\n",
      "priority                  5\n",
      "repo                      6\n",
      "last_viewed               9\n",
      "assignee                 16\n",
      "creator                  22\n",
      "reporter                 22\n",
      "resolved                144\n",
      "deletions               215\n",
      "additions               251\n",
      "changes                 317\n",
      "updated                 339\n",
      "created                 385\n",
      "jira_ticket             385\n",
      "summary                 385\n",
      "issue_id                385\n",
      "description             385\n",
      "commit                 1268\n",
      "filename_wo_path       2296\n",
      "filename               3005\n"
     ]
    }
   ],
   "source": [
    "## Analyze unique values per column to consider categorical variables for model predictions\n",
    "cols=df_ccxp_raw_new.columns\n",
    "label_cols= list(cols[0:])\n",
    "num_labels= len(label_cols)\n",
    "print('Count of distinct values per column: ',df_ccxp_raw[label_cols].nunique().sort_values().to_string())"
   ]
  },
  {
   "cell_type": "code",
   "execution_count": 12,
   "metadata": {},
   "outputs": [],
   "source": [
    "#len(df_ccxp_raw_new.loc[df_ccxp_raw_new.filepath.str.contains('src') & df_ccxp_raw_new.filepath.str.contains('apps/ccxp-web/src/locale')])"
   ]
  },
  {
   "cell_type": "code",
   "execution_count": 13,
   "metadata": {},
   "outputs": [
    {
     "data": {
      "text/html": [
       "<div>\n",
       "<style scoped>\n",
       "    .dataframe tbody tr th:only-of-type {\n",
       "        vertical-align: middle;\n",
       "    }\n",
       "\n",
       "    .dataframe tbody tr th {\n",
       "        vertical-align: top;\n",
       "    }\n",
       "\n",
       "    .dataframe thead th {\n",
       "        text-align: right;\n",
       "    }\n",
       "</style>\n",
       "<table border=\"1\" class=\"dataframe\">\n",
       "  <thead>\n",
       "    <tr style=\"text-align: right;\">\n",
       "      <th></th>\n",
       "      <th>jira_ticket</th>\n",
       "      <th>commit</th>\n",
       "      <th>filename</th>\n",
       "      <th>filename_wo_path</th>\n",
       "      <th>status</th>\n",
       "      <th>additions</th>\n",
       "      <th>deletions</th>\n",
       "      <th>changes</th>\n",
       "      <th>repo</th>\n",
       "      <th>summary</th>\n",
       "      <th>...</th>\n",
       "      <th>resolution</th>\n",
       "      <th>assignee</th>\n",
       "      <th>reporter</th>\n",
       "      <th>creator</th>\n",
       "      <th>created</th>\n",
       "      <th>updated</th>\n",
       "      <th>last_viewed</th>\n",
       "      <th>resolved</th>\n",
       "      <th>description</th>\n",
       "      <th>filepath</th>\n",
       "    </tr>\n",
       "  </thead>\n",
       "  <tbody>\n",
       "    <tr>\n",
       "      <th>0</th>\n",
       "      <td>CCXP-1076</td>\n",
       "      <td>a8b1300d5f9982811b64f7b8257ef311b73b984c</td>\n",
       "      <td>package-lock.json</td>\n",
       "      <td>package-lock.json</td>\n",
       "      <td>modified</td>\n",
       "      <td>1</td>\n",
       "      <td>1</td>\n",
       "      <td>2</td>\n",
       "      <td>ccxp-data</td>\n",
       "      <td>duplicate specialties created during etl</td>\n",
       "      <td>...</td>\n",
       "      <td>Closed</td>\n",
       "      <td>TUQ0</td>\n",
       "      <td>TUQ0</td>\n",
       "      <td>TUQ0</td>\n",
       "      <td>6/4/2019 15:38</td>\n",
       "      <td>8/14/2019 16:13</td>\n",
       "      <td>7/28/2022 10:45</td>\n",
       "      <td>6/14/2019 10:19</td>\n",
       "      <td>during the etl run for physicians, specialties...</td>\n",
       "      <td>ccxp-data/package-lock.json</td>\n",
       "    </tr>\n",
       "    <tr>\n",
       "      <th>1</th>\n",
       "      <td>CCXP-1076</td>\n",
       "      <td>a8b1300d5f9982811b64f7b8257ef311b73b984c</td>\n",
       "      <td>package.json</td>\n",
       "      <td>package.json</td>\n",
       "      <td>modified</td>\n",
       "      <td>1</td>\n",
       "      <td>1</td>\n",
       "      <td>2</td>\n",
       "      <td>ccxp-data</td>\n",
       "      <td>duplicate specialties created during etl</td>\n",
       "      <td>...</td>\n",
       "      <td>Closed</td>\n",
       "      <td>TUQ0</td>\n",
       "      <td>TUQ0</td>\n",
       "      <td>TUQ0</td>\n",
       "      <td>6/4/2019 15:38</td>\n",
       "      <td>8/14/2019 16:13</td>\n",
       "      <td>7/28/2022 10:45</td>\n",
       "      <td>6/14/2019 10:19</td>\n",
       "      <td>during the etl run for physicians, specialties...</td>\n",
       "      <td>ccxp-data/package.json</td>\n",
       "    </tr>\n",
       "  </tbody>\n",
       "</table>\n",
       "<p>2 rows × 30 columns</p>\n",
       "</div>"
      ],
      "text/plain": [
       "  jira_ticket                                    commit           filename  \\\n",
       "0   CCXP-1076  a8b1300d5f9982811b64f7b8257ef311b73b984c  package-lock.json   \n",
       "1   CCXP-1076  a8b1300d5f9982811b64f7b8257ef311b73b984c       package.json   \n",
       "\n",
       "    filename_wo_path    status  additions  deletions  changes       repo  \\\n",
       "0  package-lock.json  modified          1          1        2  ccxp-data   \n",
       "1       package.json  modified          1          1        2  ccxp-data   \n",
       "\n",
       "                                    summary  ...  resolution assignee  \\\n",
       "0  duplicate specialties created during etl  ...      Closed     TUQ0   \n",
       "1  duplicate specialties created during etl  ...      Closed     TUQ0   \n",
       "\n",
       "  reporter creator         created          updated      last_viewed  \\\n",
       "0     TUQ0    TUQ0  6/4/2019 15:38  8/14/2019 16:13  7/28/2022 10:45   \n",
       "1     TUQ0    TUQ0  6/4/2019 15:38  8/14/2019 16:13  7/28/2022 10:45   \n",
       "\n",
       "          resolved                                        description  \\\n",
       "0  6/14/2019 10:19  during the etl run for physicians, specialties...   \n",
       "1  6/14/2019 10:19  during the etl run for physicians, specialties...   \n",
       "\n",
       "                      filepath  \n",
       "0  ccxp-data/package-lock.json  \n",
       "1       ccxp-data/package.json  \n",
       "\n",
       "[2 rows x 30 columns]"
      ]
     },
     "execution_count": 13,
     "metadata": {},
     "output_type": "execute_result"
    }
   ],
   "source": [
    "# create a column that adds the repo name to the directory for label preparation\n",
    "df_ccxp_raw_new1['filepath'] = df_ccxp_raw_new1['repo'] + '/'+df_ccxp_raw_new1['filename']\n",
    "df_ccxp_raw_new1.head(2)"
   ]
  },
  {
   "cell_type": "code",
   "execution_count": 14,
   "metadata": {},
   "outputs": [],
   "source": [
    "## count the number of jira ticket changes, additions, deletions of mct bug dataset\n",
    "ticket_changes= df_ccxp_raw.pivot_table(index=['jira_ticket'],values=['additions','changes','deletions'],aggfunc=sum)"
   ]
  },
  {
   "cell_type": "code",
   "execution_count": 15,
   "metadata": {},
   "outputs": [],
   "source": [
    "## Label the categories: Binarization\n",
    "df_ccxp_raw_new1.loc[df_ccxp_raw_new1.filepath.str.contains('ccxp-server/src'),'server']=int(bool(1))\n",
    "df_ccxp_raw_new1.loc[df_ccxp_raw_new1.filepath.str.contains('ccxp-data/src'),'data']=int(bool(1))\n",
    "df_ccxp_raw_new1.loc[df_ccxp_raw_new1.filepath.str.contains('ccxp-etl/src'),'etl']=int(bool(1))\n",
    "#df_ccxp_raw_new.loc[df_ccxp_raw_new.filepath.str.contains('ccxp-client/apps/'),'client_app']=int(bool(1))\n",
    "#df_ccxp_raw_new.loc[df_ccxp_raw_new.filepath.str.contains('ccxp-client/libs/'),'client_lib']=int(bool(1))\n",
    "df_ccxp_raw_new1.loc[df_ccxp_raw_new1.filepath.str.contains('ccxp-client/apps/ccxp-web/src/scss'),'ca_scss']=int(bool(1))\n",
    "df_ccxp_raw_new1.loc[df_ccxp_raw_new1.filepath.str.contains('ccxp-client/apps/ccxp-web/src/app'),'ca_webapp']=int(bool(1))\n",
    "df_ccxp_raw_new1.loc[df_ccxp_raw_new1.filepath.str.contains('ccxp-client/libs/shared/src'),'cl_shared']=int(bool(1))\n",
    "df_ccxp_raw_new1.loc[df_ccxp_raw_new1.filepath.str.contains('ccxp-client/libs/features/provider-search/src'),'cl_prov_search']=int(bool(1))\n",
    "df_ccxp_raw_new1.loc[df_ccxp_raw_new1.filepath.str.contains('ccxp-client/libs/core/src'),'cl_core']=int(bool(1))\n",
    "df_ccxp_raw_new1.loc[df_ccxp_raw_new1.filepath.str.contains('ccxp-client/libs/mymedicare/'),'cl_mymedicare']=int(bool(1))\n",
    "df_ccxp_raw_new1.loc[df_ccxp_raw_new1.filepath.str.contains('ccxp-client/libs/features/provider-measures/src'),'cl_feat_pmeasure']=int(bool(1))\n",
    "df_ccxp_raw_new1.loc[df_ccxp_raw_new1.filepath.str.contains('ccxp-client/libs/features/provider-details/src'),'cl_feat_pdetails']=int(bool(1))\n",
    "df_ccxp_raw_new1.loc[df_ccxp_raw_new1.filepath.str.contains('ccxp-client/libs/features/provider-compare/src'),'cl_feat_pcompare']=int(bool(1))\n"
   ]
  },
  {
   "cell_type": "code",
   "execution_count": 16,
   "metadata": {},
   "outputs": [],
   "source": [
    "# Select the training data by choosing the rows that have category flags\n",
    "df_training = df_ccxp_raw_new1.loc[~(df_ccxp_raw_new1.server.isna()\\\n",
    "                &(df_ccxp_raw_new1.data.isna())\\\n",
    "                &(df_ccxp_raw_new1.etl.isna())\\\n",
    "                &(df_ccxp_raw_new1.ca_scss.isna())\\\n",
    "                &(df_ccxp_raw_new1.ca_webapp.isna())\\\n",
    "                &(df_ccxp_raw_new1.cl_shared.isna())\\\n",
    "                &(df_ccxp_raw_new1.cl_prov_search.isna())\\\n",
    "                &(df_ccxp_raw_new1.cl_core.isna())\\\n",
    "                &(df_ccxp_raw_new1.cl_mymedicare.isna())\\\n",
    "                &(df_ccxp_raw_new1.cl_feat_pmeasure.isna())\\\n",
    "                &(df_ccxp_raw_new1.cl_feat_pdetails.isna())\\\n",
    "                &(df_ccxp_raw_new1.cl_feat_pcompare.isna()))]"
   ]
  },
  {
   "cell_type": "code",
   "execution_count": 17,
   "metadata": {},
   "outputs": [
    {
     "name": "stdout",
     "output_type": "stream",
     "text": [
      "training dataset length:  6297\n",
      "ccxp raw dataset:  7708\n"
     ]
    }
   ],
   "source": [
    "print('training dataset length: ',len(df_training))\n",
    "print('ccxp raw dataset: ',len(df_ccxp_raw_new))"
   ]
  },
  {
   "cell_type": "code",
   "execution_count": 18,
   "metadata": {},
   "outputs": [],
   "source": [
    "df_training.to_csv(r'CCXP_training_basic_clean_no_img.csv')"
   ]
  },
  {
   "cell_type": "code",
   "execution_count": 19,
   "metadata": {},
   "outputs": [],
   "source": [
    "# Group the training data by jira ticket number\n",
    "df_ccxp_raw_new_out= df_ccxp_raw_new1.loc[:,['jira_ticket', 'summary', 'description']].groupby(['jira_ticket',\n",
    "                                'summary',\n",
    "                                'description'],\n",
    "                       ).max().reset_index().fillna(0)"
   ]
  },
  {
   "cell_type": "code",
   "execution_count": 20,
   "metadata": {},
   "outputs": [],
   "source": [
    "df_ccxp_raw_new_out.to_csv(r'ccxp-ticket-standardization_no_img_basic.csv')"
   ]
  },
  {
   "cell_type": "code",
   "execution_count": 21,
   "metadata": {},
   "outputs": [
    {
     "data": {
      "text/plain": [
       "2585"
      ]
     },
     "execution_count": 21,
     "metadata": {},
     "output_type": "execute_result"
    }
   ],
   "source": [
    "df_training.filename.nunique()"
   ]
  },
  {
   "cell_type": "code",
   "execution_count": 22,
   "metadata": {},
   "outputs": [
    {
     "data": {
      "text/plain": [
       "258"
      ]
     },
     "execution_count": 22,
     "metadata": {},
     "output_type": "execute_result"
    }
   ],
   "source": [
    "df_training.changes.nunique()"
   ]
  },
  {
   "cell_type": "code",
   "execution_count": 23,
   "metadata": {},
   "outputs": [
    {
     "data": {
      "text/plain": [
       "142203"
      ]
     },
     "execution_count": 23,
     "metadata": {},
     "output_type": "execute_result"
    }
   ],
   "source": [
    "ticket_change_train= df_training.pivot_table(index=['jira_ticket'],values=['additions','changes','deletions'],aggfunc=sum)\n",
    "ticket_change_train.changes.sum()"
   ]
  },
  {
   "cell_type": "code",
   "execution_count": 24,
   "metadata": {},
   "outputs": [],
   "source": [
    "# Group the training data by jira ticket number\n",
    "df_training = df_training.loc[:,['jira_ticket', 'summary', 'description',\n",
    "                                 'server', 'data',\n",
    "                                   'etl','ca_scss','ca_webapp','cl_shared',\n",
    "                                 'cl_prov_search','cl_core','cl_mymedicare','cl_feat_pmeasure',\n",
    "                                 'cl_feat_pdetails','cl_feat_pcompare']].groupby(['jira_ticket',\n",
    "                                'summary',\n",
    "                                'description'],\n",
    "                       ).max().reset_index().fillna(0)"
   ]
  },
  {
   "cell_type": "code",
   "execution_count": 25,
   "metadata": {},
   "outputs": [],
   "source": [
    "# Set the inputs columns and the columns that we want to predit\n",
    "df_training['text']=df_training['summary'].apply(lambda x: x.replace('\\n', ' '))+df_training['description'].apply(lambda x: x.replace('\\n', ' '))\n",
    "df_training['labels'] = list(zip(df_training.server.tolist(),  df_training.data.tolist(), df_training.etl.tolist(),\n",
    "                                df_training.ca_scss.tolist(),df_training.ca_webapp.tolist(),df_training.cl_shared.tolist(),\n",
    "                                df_training.cl_prov_search.tolist(),df_training.cl_core.tolist(),df_training.cl_mymedicare.tolist(),df_training.cl_feat_pmeasure.tolist(),\n",
    "                                df_training.cl_feat_pdetails.tolist(),df_training.cl_feat_pcompare.tolist()))"
   ]
  },
  {
   "cell_type": "code",
   "execution_count": 26,
   "metadata": {},
   "outputs": [
    {
     "data": {
      "text/html": [
       "<div>\n",
       "<style scoped>\n",
       "    .dataframe tbody tr th:only-of-type {\n",
       "        vertical-align: middle;\n",
       "    }\n",
       "\n",
       "    .dataframe tbody tr th {\n",
       "        vertical-align: top;\n",
       "    }\n",
       "\n",
       "    .dataframe thead th {\n",
       "        text-align: right;\n",
       "    }\n",
       "</style>\n",
       "<table border=\"1\" class=\"dataframe\">\n",
       "  <thead>\n",
       "    <tr style=\"text-align: right;\">\n",
       "      <th></th>\n",
       "      <th>jira_ticket</th>\n",
       "      <th>summary</th>\n",
       "      <th>description</th>\n",
       "      <th>server</th>\n",
       "      <th>data</th>\n",
       "      <th>etl</th>\n",
       "      <th>ca_scss</th>\n",
       "      <th>ca_webapp</th>\n",
       "      <th>cl_shared</th>\n",
       "      <th>cl_prov_search</th>\n",
       "      <th>cl_core</th>\n",
       "      <th>cl_mymedicare</th>\n",
       "      <th>cl_feat_pmeasure</th>\n",
       "      <th>cl_feat_pdetails</th>\n",
       "      <th>cl_feat_pcompare</th>\n",
       "      <th>text</th>\n",
       "      <th>labels</th>\n",
       "    </tr>\n",
       "  </thead>\n",
       "  <tbody>\n",
       "    <tr>\n",
       "      <th>0</th>\n",
       "      <td>CCXP-1076</td>\n",
       "      <td>duplicate specialties created during etl</td>\n",
       "      <td>during the etl run for physicians, specialties...</td>\n",
       "      <td>0.0</td>\n",
       "      <td>1.0</td>\n",
       "      <td>0.0</td>\n",
       "      <td>0.0</td>\n",
       "      <td>0.0</td>\n",
       "      <td>0.0</td>\n",
       "      <td>0.0</td>\n",
       "      <td>0.0</td>\n",
       "      <td>0.0</td>\n",
       "      <td>0.0</td>\n",
       "      <td>0.0</td>\n",
       "      <td>0.0</td>\n",
       "      <td>duplicate specialties created during etlduring...</td>\n",
       "      <td>(0.0, 1.0, 0.0, 0.0, 0.0, 0.0, 0.0, 0.0, 0.0, ...</td>\n",
       "    </tr>\n",
       "    <tr>\n",
       "      <th>1</th>\n",
       "      <td>CCXP-1128</td>\n",
       "      <td>accessing test and impl using ie is not working</td>\n",
       "      <td>i should be able to access both test and impl ...</td>\n",
       "      <td>0.0</td>\n",
       "      <td>1.0</td>\n",
       "      <td>0.0</td>\n",
       "      <td>0.0</td>\n",
       "      <td>0.0</td>\n",
       "      <td>0.0</td>\n",
       "      <td>0.0</td>\n",
       "      <td>0.0</td>\n",
       "      <td>0.0</td>\n",
       "      <td>0.0</td>\n",
       "      <td>0.0</td>\n",
       "      <td>0.0</td>\n",
       "      <td>accessing test and impl using ie is not workin...</td>\n",
       "      <td>(0.0, 1.0, 0.0, 0.0, 0.0, 0.0, 0.0, 0.0, 0.0, ...</td>\n",
       "    </tr>\n",
       "  </tbody>\n",
       "</table>\n",
       "</div>"
      ],
      "text/plain": [
       "  jira_ticket                                          summary  \\\n",
       "0   CCXP-1076         duplicate specialties created during etl   \n",
       "1   CCXP-1128  accessing test and impl using ie is not working   \n",
       "\n",
       "                                         description  server  data  etl  \\\n",
       "0  during the etl run for physicians, specialties...     0.0   1.0  0.0   \n",
       "1  i should be able to access both test and impl ...     0.0   1.0  0.0   \n",
       "\n",
       "   ca_scss  ca_webapp  cl_shared  cl_prov_search  cl_core  cl_mymedicare  \\\n",
       "0      0.0        0.0        0.0             0.0      0.0            0.0   \n",
       "1      0.0        0.0        0.0             0.0      0.0            0.0   \n",
       "\n",
       "   cl_feat_pmeasure  cl_feat_pdetails  cl_feat_pcompare  \\\n",
       "0               0.0               0.0               0.0   \n",
       "1               0.0               0.0               0.0   \n",
       "\n",
       "                                                text  \\\n",
       "0  duplicate specialties created during etlduring...   \n",
       "1  accessing test and impl using ie is not workin...   \n",
       "\n",
       "                                              labels  \n",
       "0  (0.0, 1.0, 0.0, 0.0, 0.0, 0.0, 0.0, 0.0, 0.0, ...  \n",
       "1  (0.0, 1.0, 0.0, 0.0, 0.0, 0.0, 0.0, 0.0, 0.0, ...  "
      ]
     },
     "execution_count": 26,
     "metadata": {},
     "output_type": "execute_result"
    }
   ],
   "source": [
    "df_training.head(2)"
   ]
  },
  {
   "cell_type": "code",
   "execution_count": 27,
   "metadata": {},
   "outputs": [
    {
     "data": {
      "text/plain": [
       "jira_ticket         CCXP-1076CCXP-1128CCXP-1300CCXP-1348CCXP-1376C...\n",
       "summary             duplicate specialties created during etlaccess...\n",
       "description         during the etl run for physicians, specialties...\n",
       "server                                                           17.0\n",
       "data                                                             96.0\n",
       "etl                                                              22.0\n",
       "ca_scss                                                          52.0\n",
       "ca_webapp                                                        29.0\n",
       "cl_shared                                                        66.0\n",
       "cl_prov_search                                                  102.0\n",
       "cl_core                                                          54.0\n",
       "cl_mymedicare                                                    20.0\n",
       "cl_feat_pmeasure                                                 73.0\n",
       "cl_feat_pdetails                                                 57.0\n",
       "cl_feat_pcompare                                                 83.0\n",
       "text                duplicate specialties created during etlduring...\n",
       "labels              (0.0, 1.0, 0.0, 0.0, 0.0, 0.0, 0.0, 0.0, 0.0, ...\n",
       "dtype: object"
      ]
     },
     "execution_count": 27,
     "metadata": {},
     "output_type": "execute_result"
    }
   ],
   "source": [
    "df_training.sum()"
   ]
  },
  {
   "cell_type": "markdown",
   "metadata": {
    "tags": []
   },
   "source": [
    "# Lable Reference\n",
    "1. client apps scss\n",
    "- ca_scss \n",
    "- ccxp-client/apps/ccxp-web/src/scss\n",
    "\n",
    "2. client apps web app\n",
    "- ca_webapp \n",
    "- ccxp-client/apps/ccxp-web/src/app\n",
    "\n",
    "3. client libs shared\n",
    "- cl_shared\n",
    "- ccxp-client/apps/ccxp-web/src/app\n",
    "\n",
    "4. client libs provider search\n",
    "- cl_prov_search\n",
    "- ccxp-client/libs/features/provider-search/src\n",
    "\n",
    "5. client libs core\n",
    "- cl_core\n",
    "- ccxp-client/libs/core/src\n",
    "\n",
    "6. client libs my medicare\n",
    "- cl_mymedicare\n",
    "- ccxp-client/libs/mymedicare/\n",
    "\n",
    "7. client libs features provider measures\n",
    "- cl_feat_pmeasure\n",
    "- ccxp-client/libs/features/provider-measures/src\n",
    "\n",
    "8. client libs features provider details\n",
    "- cl_feat_pdetails\n",
    "- client/libs/features/provider-details/src\n",
    "\n",
    "9. client libs features provider compare\n",
    "- cl_feat_pcompare\n",
    "- ccxp-client/libs/features/provider-compare/src\n",
    "\n",
    "10. data\n",
    "- ccxp-data\n",
    "\n",
    "11. etl\n",
    "- ccxp-etl\n",
    "\n",
    "12. server\n",
    "- ccxp-server"
   ]
  },
  {
   "cell_type": "code",
   "execution_count": 28,
   "metadata": {},
   "outputs": [],
   "source": [
    "## Train/Test split\n",
    "train_df, eval_df = train_test_split(df_training, test_size=0.2)"
   ]
  },
  {
   "cell_type": "code",
   "execution_count": 29,
   "metadata": {},
   "outputs": [
    {
     "data": {
      "text/plain": [
       "(290, 17)"
      ]
     },
     "execution_count": 29,
     "metadata": {},
     "output_type": "execute_result"
    }
   ],
   "source": [
    "train_df.shape"
   ]
  },
  {
   "cell_type": "code",
   "execution_count": 30,
   "metadata": {},
   "outputs": [],
   "source": [
    "df_training['text']=df_training['text'].str.lower()"
   ]
  },
  {
   "cell_type": "code",
   "execution_count": 31,
   "metadata": {},
   "outputs": [],
   "source": [
    "import pandas as pd\n",
    "from sklearn.model_selection import train_test_split\n",
    "from simpletransformers.classification import MultiLabelClassificationModel"
   ]
  },
  {
   "cell_type": "code",
   "execution_count": 32,
   "metadata": {},
   "outputs": [
    {
     "name": "stderr",
     "output_type": "stream",
     "text": [
      "Some weights of the model checkpoint at roberta-base were not used when initializing RobertaForMultiLabelSequenceClassification: ['lm_head.layer_norm.weight', 'lm_head.bias', 'lm_head.decoder.weight', 'lm_head.layer_norm.bias', 'lm_head.dense.weight', 'lm_head.dense.bias']\n",
      "- This IS expected if you are initializing RobertaForMultiLabelSequenceClassification from the checkpoint of a model trained on another task or with another architecture (e.g. initializing a BertForSequenceClassification model from a BertForPreTraining model).\n",
      "- This IS NOT expected if you are initializing RobertaForMultiLabelSequenceClassification from the checkpoint of a model that you expect to be exactly identical (initializing a BertForSequenceClassification model from a BertForSequenceClassification model).\n",
      "Some weights of RobertaForMultiLabelSequenceClassification were not initialized from the model checkpoint at roberta-base and are newly initialized: ['classifier.out_proj.bias', 'classifier.dense.bias', 'classifier.out_proj.weight', 'classifier.dense.weight']\n",
      "You should probably TRAIN this model on a down-stream task to be able to use it for predictions and inference.\n"
     ]
    }
   ],
   "source": [
    "model_roberta = MultiLabelClassificationModel('roberta', \n",
    "                                      'roberta-base', \n",
    "                                      num_labels=12, \n",
    "                                      use_cuda= False,\n",
    "                                      args={'train_batch_size':2, 'gradient_accumulation_steps':16, \n",
    "                                            'learning_rate': 3e-5,#'optimizer': optimizer,\n",
    "                                            'num_train_epochs': 5,\"weight_decay\": 0, 'max_seq_length': 512,\n",
    "                                            'overwrite_output_dir': True})"
   ]
  },
  {
   "cell_type": "code",
   "execution_count": 33,
   "metadata": {},
   "outputs": [
    {
     "data": {
      "application/vnd.jupyter.widget-view+json": {
       "model_id": "05a2a68147df4aeb8980fec03579d793",
       "version_major": 2,
       "version_minor": 0
      },
      "text/plain": [
       "  0%|          | 0/290 [00:00<?, ?it/s]"
      ]
     },
     "metadata": {},
     "output_type": "display_data"
    },
    {
     "data": {
      "application/vnd.jupyter.widget-view+json": {
       "model_id": "d477b41ac119409dbfa591703b3789ab",
       "version_major": 2,
       "version_minor": 0
      },
      "text/plain": [
       "Epoch:   0%|          | 0/5 [00:00<?, ?it/s]"
      ]
     },
     "metadata": {},
     "output_type": "display_data"
    },
    {
     "data": {
      "application/vnd.jupyter.widget-view+json": {
       "model_id": "ab62f48a4c774557bccc215d5c9e2a3c",
       "version_major": 2,
       "version_minor": 0
      },
      "text/plain": [
       "Running Epoch 0 of 5:   0%|          | 0/145 [00:00<?, ?it/s]"
      ]
     },
     "metadata": {},
     "output_type": "display_data"
    },
    {
     "data": {
      "application/vnd.jupyter.widget-view+json": {
       "model_id": "aa5d9b6a2b654a61bd5f19589b30999d",
       "version_major": 2,
       "version_minor": 0
      },
      "text/plain": [
       "Running Epoch 1 of 5:   0%|          | 0/145 [00:00<?, ?it/s]"
      ]
     },
     "metadata": {},
     "output_type": "display_data"
    },
    {
     "data": {
      "application/vnd.jupyter.widget-view+json": {
       "model_id": "6a7f5e792cf14c9cbb3f26ba47efc96a",
       "version_major": 2,
       "version_minor": 0
      },
      "text/plain": [
       "Running Epoch 2 of 5:   0%|          | 0/145 [00:00<?, ?it/s]"
      ]
     },
     "metadata": {},
     "output_type": "display_data"
    },
    {
     "data": {
      "application/vnd.jupyter.widget-view+json": {
       "model_id": "20b2ccbffa114238a80306930e4fe0ab",
       "version_major": 2,
       "version_minor": 0
      },
      "text/plain": [
       "Running Epoch 3 of 5:   0%|          | 0/145 [00:00<?, ?it/s]"
      ]
     },
     "metadata": {},
     "output_type": "display_data"
    },
    {
     "data": {
      "application/vnd.jupyter.widget-view+json": {
       "model_id": "a9d6c940a70c4363bc9d3cda241ba243",
       "version_major": 2,
       "version_minor": 0
      },
      "text/plain": [
       "Running Epoch 4 of 5:   0%|          | 0/145 [00:00<?, ?it/s]"
      ]
     },
     "metadata": {},
     "output_type": "display_data"
    },
    {
     "data": {
      "text/plain": [
       "(45, 0.4740094015167819)"
      ]
     },
     "execution_count": 33,
     "metadata": {},
     "output_type": "execute_result"
    }
   ],
   "source": [
    "model_roberta.train_model(train_df,\n",
    "                 no_deprecation_warning=True)"
   ]
  },
  {
   "cell_type": "code",
   "execution_count": 34,
   "metadata": {},
   "outputs": [
    {
     "data": {
      "application/vnd.jupyter.widget-view+json": {
       "model_id": "3f47d99f43814844a7c89400b0fa00f8",
       "version_major": 2,
       "version_minor": 0
      },
      "text/plain": [
       "  0%|          | 0/73 [00:00<?, ?it/s]"
      ]
     },
     "metadata": {},
     "output_type": "display_data"
    },
    {
     "data": {
      "application/vnd.jupyter.widget-view+json": {
       "model_id": "79e4aa6ffbfc451687087ae55b061cb5",
       "version_major": 2,
       "version_minor": 0
      },
      "text/plain": [
       "Running Evaluation:   0%|          | 0/10 [00:00<?, ?it/s]"
      ]
     },
     "metadata": {},
     "output_type": "display_data"
    }
   ],
   "source": [
    "result, model_outputs, wrong_predictions = model_roberta.eval_model(eval_df, \n",
    "                                            verbose=False, multi_label=True)"
   ]
  },
  {
   "cell_type": "code",
   "execution_count": 35,
   "metadata": {},
   "outputs": [
    {
     "data": {
      "text/plain": [
       "{'LRAP': 0.4341984829423674, 'eval_loss': 0.3927554816007614}"
      ]
     },
     "execution_count": 35,
     "metadata": {},
     "output_type": "execute_result"
    }
   ],
   "source": [
    "result"
   ]
  },
  {
   "cell_type": "code",
   "execution_count": 36,
   "metadata": {},
   "outputs": [],
   "source": [
    "roberta_out=pd.concat([eval_df, pd.DataFrame(model_outputs)], axis=1,join='inner')"
   ]
  },
  {
   "cell_type": "code",
   "execution_count": 37,
   "metadata": {},
   "outputs": [
    {
     "data": {
      "text/html": [
       "<div>\n",
       "<style scoped>\n",
       "    .dataframe tbody tr th:only-of-type {\n",
       "        vertical-align: middle;\n",
       "    }\n",
       "\n",
       "    .dataframe tbody tr th {\n",
       "        vertical-align: top;\n",
       "    }\n",
       "\n",
       "    .dataframe thead th {\n",
       "        text-align: right;\n",
       "    }\n",
       "</style>\n",
       "<table border=\"1\" class=\"dataframe\">\n",
       "  <thead>\n",
       "    <tr style=\"text-align: right;\">\n",
       "      <th></th>\n",
       "      <th>jira_ticket</th>\n",
       "      <th>summary</th>\n",
       "      <th>description</th>\n",
       "      <th>server</th>\n",
       "      <th>data</th>\n",
       "      <th>etl</th>\n",
       "      <th>ca_scss</th>\n",
       "      <th>ca_webapp</th>\n",
       "      <th>cl_shared</th>\n",
       "      <th>cl_prov_search</th>\n",
       "      <th>...</th>\n",
       "      <th>2</th>\n",
       "      <th>3</th>\n",
       "      <th>4</th>\n",
       "      <th>5</th>\n",
       "      <th>6</th>\n",
       "      <th>7</th>\n",
       "      <th>8</th>\n",
       "      <th>9</th>\n",
       "      <th>10</th>\n",
       "      <th>11</th>\n",
       "    </tr>\n",
       "  </thead>\n",
       "  <tbody>\n",
       "    <tr>\n",
       "      <th>29</th>\n",
       "      <td>CCXP-1940</td>\n",
       "      <td>nursing home staffing, dialysis quality of car...</td>\n",
       "      <td>for nursing home staffing, dialysis quality of...</td>\n",
       "      <td>0.0</td>\n",
       "      <td>1.0</td>\n",
       "      <td>0.0</td>\n",
       "      <td>0.0</td>\n",
       "      <td>0.0</td>\n",
       "      <td>0.0</td>\n",
       "      <td>0.0</td>\n",
       "      <td>...</td>\n",
       "      <td>0.082914</td>\n",
       "      <td>0.165982</td>\n",
       "      <td>0.095399</td>\n",
       "      <td>0.209567</td>\n",
       "      <td>0.317052</td>\n",
       "      <td>0.160428</td>\n",
       "      <td>0.083883</td>\n",
       "      <td>0.207885</td>\n",
       "      <td>0.151077</td>\n",
       "      <td>0.243107</td>\n",
       "    </tr>\n",
       "    <tr>\n",
       "      <th>42</th>\n",
       "      <td>CCXP-2120</td>\n",
       "      <td>inpatient rehab compare - missing section</td>\n",
       "      <td>readmissions section not found as expected, fa...</td>\n",
       "      <td>0.0</td>\n",
       "      <td>0.0</td>\n",
       "      <td>0.0</td>\n",
       "      <td>0.0</td>\n",
       "      <td>0.0</td>\n",
       "      <td>0.0</td>\n",
       "      <td>0.0</td>\n",
       "      <td>...</td>\n",
       "      <td>0.082127</td>\n",
       "      <td>0.169451</td>\n",
       "      <td>0.098387</td>\n",
       "      <td>0.208512</td>\n",
       "      <td>0.315435</td>\n",
       "      <td>0.160701</td>\n",
       "      <td>0.084264</td>\n",
       "      <td>0.207709</td>\n",
       "      <td>0.152380</td>\n",
       "      <td>0.241811</td>\n",
       "    </tr>\n",
       "    <tr>\n",
       "      <th>41</th>\n",
       "      <td>CCXP-2109</td>\n",
       "      <td>hospice - quality of patient care popup *update*</td>\n",
       "      <td>on the quality of care popup for hospice, ther...</td>\n",
       "      <td>0.0</td>\n",
       "      <td>0.0</td>\n",
       "      <td>0.0</td>\n",
       "      <td>0.0</td>\n",
       "      <td>0.0</td>\n",
       "      <td>0.0</td>\n",
       "      <td>0.0</td>\n",
       "      <td>...</td>\n",
       "      <td>0.082925</td>\n",
       "      <td>0.161663</td>\n",
       "      <td>0.098639</td>\n",
       "      <td>0.215067</td>\n",
       "      <td>0.314653</td>\n",
       "      <td>0.157881</td>\n",
       "      <td>0.081246</td>\n",
       "      <td>0.212061</td>\n",
       "      <td>0.151295</td>\n",
       "      <td>0.244579</td>\n",
       "    </tr>\n",
       "    <tr>\n",
       "      <th>22</th>\n",
       "      <td>CCXP-1821</td>\n",
       "      <td>group practice detail - search field error mes...</td>\n",
       "      <td>{panel}  when a user enters text and it filter...</td>\n",
       "      <td>0.0</td>\n",
       "      <td>0.0</td>\n",
       "      <td>0.0</td>\n",
       "      <td>1.0</td>\n",
       "      <td>0.0</td>\n",
       "      <td>0.0</td>\n",
       "      <td>0.0</td>\n",
       "      <td>...</td>\n",
       "      <td>0.083713</td>\n",
       "      <td>0.158698</td>\n",
       "      <td>0.098961</td>\n",
       "      <td>0.208294</td>\n",
       "      <td>0.284234</td>\n",
       "      <td>0.158101</td>\n",
       "      <td>0.084922</td>\n",
       "      <td>0.222925</td>\n",
       "      <td>0.155566</td>\n",
       "      <td>0.248283</td>\n",
       "    </tr>\n",
       "    <tr>\n",
       "      <th>16</th>\n",
       "      <td>CCXP-1727</td>\n",
       "      <td>qa | search results ratings filter</td>\n",
       "      <td>since the descriptive text was removed from be...</td>\n",
       "      <td>0.0</td>\n",
       "      <td>0.0</td>\n",
       "      <td>0.0</td>\n",
       "      <td>0.0</td>\n",
       "      <td>0.0</td>\n",
       "      <td>0.0</td>\n",
       "      <td>1.0</td>\n",
       "      <td>...</td>\n",
       "      <td>0.082121</td>\n",
       "      <td>0.164059</td>\n",
       "      <td>0.098020</td>\n",
       "      <td>0.212873</td>\n",
       "      <td>0.301388</td>\n",
       "      <td>0.155110</td>\n",
       "      <td>0.082878</td>\n",
       "      <td>0.220059</td>\n",
       "      <td>0.156616</td>\n",
       "      <td>0.246822</td>\n",
       "    </tr>\n",
       "  </tbody>\n",
       "</table>\n",
       "<p>5 rows × 29 columns</p>\n",
       "</div>"
      ],
      "text/plain": [
       "   jira_ticket                                            summary  \\\n",
       "29   CCXP-1940  nursing home staffing, dialysis quality of car...   \n",
       "42   CCXP-2120          inpatient rehab compare - missing section   \n",
       "41   CCXP-2109   hospice - quality of patient care popup *update*   \n",
       "22   CCXP-1821  group practice detail - search field error mes...   \n",
       "16   CCXP-1727                 qa | search results ratings filter   \n",
       "\n",
       "                                          description  server  data  etl  \\\n",
       "29  for nursing home staffing, dialysis quality of...     0.0   1.0  0.0   \n",
       "42  readmissions section not found as expected, fa...     0.0   0.0  0.0   \n",
       "41  on the quality of care popup for hospice, ther...     0.0   0.0  0.0   \n",
       "22  {panel}  when a user enters text and it filter...     0.0   0.0  0.0   \n",
       "16  since the descriptive text was removed from be...     0.0   0.0  0.0   \n",
       "\n",
       "    ca_scss  ca_webapp  cl_shared  cl_prov_search  ...         2         3  \\\n",
       "29      0.0        0.0        0.0             0.0  ...  0.082914  0.165982   \n",
       "42      0.0        0.0        0.0             0.0  ...  0.082127  0.169451   \n",
       "41      0.0        0.0        0.0             0.0  ...  0.082925  0.161663   \n",
       "22      1.0        0.0        0.0             0.0  ...  0.083713  0.158698   \n",
       "16      0.0        0.0        0.0             1.0  ...  0.082121  0.164059   \n",
       "\n",
       "           4         5         6         7         8         9        10  \\\n",
       "29  0.095399  0.209567  0.317052  0.160428  0.083883  0.207885  0.151077   \n",
       "42  0.098387  0.208512  0.315435  0.160701  0.084264  0.207709  0.152380   \n",
       "41  0.098639  0.215067  0.314653  0.157881  0.081246  0.212061  0.151295   \n",
       "22  0.098961  0.208294  0.284234  0.158101  0.084922  0.222925  0.155566   \n",
       "16  0.098020  0.212873  0.301388  0.155110  0.082878  0.220059  0.156616   \n",
       "\n",
       "          11  \n",
       "29  0.243107  \n",
       "42  0.241811  \n",
       "41  0.244579  \n",
       "22  0.248283  \n",
       "16  0.246822  \n",
       "\n",
       "[5 rows x 29 columns]"
      ]
     },
     "execution_count": 37,
     "metadata": {},
     "output_type": "execute_result"
    }
   ],
   "source": [
    "roberta_out.head()"
   ]
  },
  {
   "cell_type": "code",
   "execution_count": 38,
   "metadata": {},
   "outputs": [],
   "source": [
    "roberta_out.to_csv('CCXP_Evaluation_12_Roberta_v2_basic_clean_10.3.2022.csv')"
   ]
  },
  {
   "cell_type": "code",
   "execution_count": 39,
   "metadata": {},
   "outputs": [
    {
     "data": {
      "text/plain": [
       "Index([     'jira_ticket',          'summary',      'description',\n",
       "                 'server',             'data',              'etl',\n",
       "                'ca_scss',        'ca_webapp',        'cl_shared',\n",
       "         'cl_prov_search',          'cl_core',    'cl_mymedicare',\n",
       "       'cl_feat_pmeasure', 'cl_feat_pdetails', 'cl_feat_pcompare',\n",
       "                   'text',           'labels',                  0,\n",
       "                        1,                  2,                  3,\n",
       "                        4,                  5,                  6,\n",
       "                        7,                  8,                  9,\n",
       "                       10,                 11],\n",
       "      dtype='object')"
      ]
     },
     "execution_count": 39,
     "metadata": {},
     "output_type": "execute_result"
    }
   ],
   "source": [
    "roberta_out.columns"
   ]
  },
  {
   "cell_type": "code",
   "execution_count": 40,
   "metadata": {},
   "outputs": [
    {
     "data": {
      "text/html": [
       "<div>\n",
       "<style scoped>\n",
       "    .dataframe tbody tr th:only-of-type {\n",
       "        vertical-align: middle;\n",
       "    }\n",
       "\n",
       "    .dataframe tbody tr th {\n",
       "        vertical-align: top;\n",
       "    }\n",
       "\n",
       "    .dataframe thead th {\n",
       "        text-align: right;\n",
       "    }\n",
       "</style>\n",
       "<table border=\"1\" class=\"dataframe\">\n",
       "  <thead>\n",
       "    <tr style=\"text-align: right;\">\n",
       "      <th></th>\n",
       "      <th>server</th>\n",
       "      <th>data</th>\n",
       "      <th>etl</th>\n",
       "      <th>ca_scss</th>\n",
       "      <th>ca_webapp</th>\n",
       "      <th>cl_shared</th>\n",
       "      <th>cl_prov_search</th>\n",
       "      <th>cl_core</th>\n",
       "      <th>cl_mymedicare</th>\n",
       "      <th>cl_feat_pmeasure</th>\n",
       "      <th>...</th>\n",
       "      <th>2</th>\n",
       "      <th>3</th>\n",
       "      <th>4</th>\n",
       "      <th>5</th>\n",
       "      <th>6</th>\n",
       "      <th>7</th>\n",
       "      <th>8</th>\n",
       "      <th>9</th>\n",
       "      <th>10</th>\n",
       "      <th>11</th>\n",
       "    </tr>\n",
       "  </thead>\n",
       "  <tbody>\n",
       "    <tr>\n",
       "      <th>29</th>\n",
       "      <td>0.0</td>\n",
       "      <td>1.0</td>\n",
       "      <td>0.0</td>\n",
       "      <td>0.0</td>\n",
       "      <td>0.0</td>\n",
       "      <td>0.0</td>\n",
       "      <td>0.0</td>\n",
       "      <td>0.0</td>\n",
       "      <td>0.0</td>\n",
       "      <td>0.0</td>\n",
       "      <td>...</td>\n",
       "      <td>0.082914</td>\n",
       "      <td>0.165982</td>\n",
       "      <td>0.095399</td>\n",
       "      <td>0.209567</td>\n",
       "      <td>0.317052</td>\n",
       "      <td>0.160428</td>\n",
       "      <td>0.083883</td>\n",
       "      <td>0.207885</td>\n",
       "      <td>0.151077</td>\n",
       "      <td>0.243107</td>\n",
       "    </tr>\n",
       "    <tr>\n",
       "      <th>42</th>\n",
       "      <td>0.0</td>\n",
       "      <td>0.0</td>\n",
       "      <td>0.0</td>\n",
       "      <td>0.0</td>\n",
       "      <td>0.0</td>\n",
       "      <td>0.0</td>\n",
       "      <td>0.0</td>\n",
       "      <td>0.0</td>\n",
       "      <td>0.0</td>\n",
       "      <td>0.0</td>\n",
       "      <td>...</td>\n",
       "      <td>0.082127</td>\n",
       "      <td>0.169451</td>\n",
       "      <td>0.098387</td>\n",
       "      <td>0.208512</td>\n",
       "      <td>0.315435</td>\n",
       "      <td>0.160701</td>\n",
       "      <td>0.084264</td>\n",
       "      <td>0.207709</td>\n",
       "      <td>0.152380</td>\n",
       "      <td>0.241811</td>\n",
       "    </tr>\n",
       "    <tr>\n",
       "      <th>41</th>\n",
       "      <td>0.0</td>\n",
       "      <td>0.0</td>\n",
       "      <td>0.0</td>\n",
       "      <td>0.0</td>\n",
       "      <td>0.0</td>\n",
       "      <td>0.0</td>\n",
       "      <td>0.0</td>\n",
       "      <td>0.0</td>\n",
       "      <td>0.0</td>\n",
       "      <td>1.0</td>\n",
       "      <td>...</td>\n",
       "      <td>0.082925</td>\n",
       "      <td>0.161663</td>\n",
       "      <td>0.098639</td>\n",
       "      <td>0.215067</td>\n",
       "      <td>0.314653</td>\n",
       "      <td>0.157881</td>\n",
       "      <td>0.081246</td>\n",
       "      <td>0.212061</td>\n",
       "      <td>0.151295</td>\n",
       "      <td>0.244579</td>\n",
       "    </tr>\n",
       "    <tr>\n",
       "      <th>22</th>\n",
       "      <td>0.0</td>\n",
       "      <td>0.0</td>\n",
       "      <td>0.0</td>\n",
       "      <td>1.0</td>\n",
       "      <td>0.0</td>\n",
       "      <td>0.0</td>\n",
       "      <td>0.0</td>\n",
       "      <td>0.0</td>\n",
       "      <td>0.0</td>\n",
       "      <td>0.0</td>\n",
       "      <td>...</td>\n",
       "      <td>0.083713</td>\n",
       "      <td>0.158698</td>\n",
       "      <td>0.098961</td>\n",
       "      <td>0.208294</td>\n",
       "      <td>0.284234</td>\n",
       "      <td>0.158101</td>\n",
       "      <td>0.084922</td>\n",
       "      <td>0.222925</td>\n",
       "      <td>0.155566</td>\n",
       "      <td>0.248283</td>\n",
       "    </tr>\n",
       "    <tr>\n",
       "      <th>16</th>\n",
       "      <td>0.0</td>\n",
       "      <td>0.0</td>\n",
       "      <td>0.0</td>\n",
       "      <td>0.0</td>\n",
       "      <td>0.0</td>\n",
       "      <td>0.0</td>\n",
       "      <td>1.0</td>\n",
       "      <td>0.0</td>\n",
       "      <td>0.0</td>\n",
       "      <td>0.0</td>\n",
       "      <td>...</td>\n",
       "      <td>0.082121</td>\n",
       "      <td>0.164059</td>\n",
       "      <td>0.098020</td>\n",
       "      <td>0.212873</td>\n",
       "      <td>0.301388</td>\n",
       "      <td>0.155110</td>\n",
       "      <td>0.082878</td>\n",
       "      <td>0.220059</td>\n",
       "      <td>0.156616</td>\n",
       "      <td>0.246822</td>\n",
       "    </tr>\n",
       "    <tr>\n",
       "      <th>52</th>\n",
       "      <td>0.0</td>\n",
       "      <td>0.0</td>\n",
       "      <td>0.0</td>\n",
       "      <td>0.0</td>\n",
       "      <td>0.0</td>\n",
       "      <td>0.0</td>\n",
       "      <td>1.0</td>\n",
       "      <td>0.0</td>\n",
       "      <td>0.0</td>\n",
       "      <td>0.0</td>\n",
       "      <td>...</td>\n",
       "      <td>0.084061</td>\n",
       "      <td>0.167031</td>\n",
       "      <td>0.100887</td>\n",
       "      <td>0.206386</td>\n",
       "      <td>0.308870</td>\n",
       "      <td>0.160123</td>\n",
       "      <td>0.085569</td>\n",
       "      <td>0.203595</td>\n",
       "      <td>0.151621</td>\n",
       "      <td>0.244397</td>\n",
       "    </tr>\n",
       "    <tr>\n",
       "      <th>50</th>\n",
       "      <td>0.0</td>\n",
       "      <td>0.0</td>\n",
       "      <td>0.0</td>\n",
       "      <td>0.0</td>\n",
       "      <td>0.0</td>\n",
       "      <td>0.0</td>\n",
       "      <td>0.0</td>\n",
       "      <td>0.0</td>\n",
       "      <td>0.0</td>\n",
       "      <td>0.0</td>\n",
       "      <td>...</td>\n",
       "      <td>0.083790</td>\n",
       "      <td>0.162927</td>\n",
       "      <td>0.097339</td>\n",
       "      <td>0.211615</td>\n",
       "      <td>0.311348</td>\n",
       "      <td>0.164253</td>\n",
       "      <td>0.084746</td>\n",
       "      <td>0.205819</td>\n",
       "      <td>0.152102</td>\n",
       "      <td>0.238635</td>\n",
       "    </tr>\n",
       "    <tr>\n",
       "      <th>8</th>\n",
       "      <td>0.0</td>\n",
       "      <td>1.0</td>\n",
       "      <td>0.0</td>\n",
       "      <td>0.0</td>\n",
       "      <td>0.0</td>\n",
       "      <td>0.0</td>\n",
       "      <td>0.0</td>\n",
       "      <td>0.0</td>\n",
       "      <td>0.0</td>\n",
       "      <td>0.0</td>\n",
       "      <td>...</td>\n",
       "      <td>0.082755</td>\n",
       "      <td>0.163863</td>\n",
       "      <td>0.098617</td>\n",
       "      <td>0.211081</td>\n",
       "      <td>0.299908</td>\n",
       "      <td>0.158560</td>\n",
       "      <td>0.084079</td>\n",
       "      <td>0.214208</td>\n",
       "      <td>0.156421</td>\n",
       "      <td>0.247714</td>\n",
       "    </tr>\n",
       "    <tr>\n",
       "      <th>72</th>\n",
       "      <td>0.0</td>\n",
       "      <td>0.0</td>\n",
       "      <td>0.0</td>\n",
       "      <td>0.0</td>\n",
       "      <td>0.0</td>\n",
       "      <td>0.0</td>\n",
       "      <td>1.0</td>\n",
       "      <td>0.0</td>\n",
       "      <td>0.0</td>\n",
       "      <td>0.0</td>\n",
       "      <td>...</td>\n",
       "      <td>0.086581</td>\n",
       "      <td>0.159002</td>\n",
       "      <td>0.096086</td>\n",
       "      <td>0.207022</td>\n",
       "      <td>0.297036</td>\n",
       "      <td>0.154622</td>\n",
       "      <td>0.084357</td>\n",
       "      <td>0.217445</td>\n",
       "      <td>0.155407</td>\n",
       "      <td>0.245152</td>\n",
       "    </tr>\n",
       "    <tr>\n",
       "      <th>36</th>\n",
       "      <td>0.0</td>\n",
       "      <td>1.0</td>\n",
       "      <td>1.0</td>\n",
       "      <td>0.0</td>\n",
       "      <td>0.0</td>\n",
       "      <td>0.0</td>\n",
       "      <td>0.0</td>\n",
       "      <td>0.0</td>\n",
       "      <td>0.0</td>\n",
       "      <td>0.0</td>\n",
       "      <td>...</td>\n",
       "      <td>0.080937</td>\n",
       "      <td>0.161170</td>\n",
       "      <td>0.098965</td>\n",
       "      <td>0.210993</td>\n",
       "      <td>0.315207</td>\n",
       "      <td>0.157960</td>\n",
       "      <td>0.082260</td>\n",
       "      <td>0.218708</td>\n",
       "      <td>0.153358</td>\n",
       "      <td>0.243819</td>\n",
       "    </tr>\n",
       "    <tr>\n",
       "      <th>24</th>\n",
       "      <td>0.0</td>\n",
       "      <td>0.0</td>\n",
       "      <td>0.0</td>\n",
       "      <td>0.0</td>\n",
       "      <td>0.0</td>\n",
       "      <td>1.0</td>\n",
       "      <td>0.0</td>\n",
       "      <td>0.0</td>\n",
       "      <td>0.0</td>\n",
       "      <td>0.0</td>\n",
       "      <td>...</td>\n",
       "      <td>0.081376</td>\n",
       "      <td>0.162969</td>\n",
       "      <td>0.098439</td>\n",
       "      <td>0.213022</td>\n",
       "      <td>0.311119</td>\n",
       "      <td>0.163245</td>\n",
       "      <td>0.082615</td>\n",
       "      <td>0.215579</td>\n",
       "      <td>0.154246</td>\n",
       "      <td>0.240601</td>\n",
       "    </tr>\n",
       "    <tr>\n",
       "      <th>48</th>\n",
       "      <td>0.0</td>\n",
       "      <td>0.0</td>\n",
       "      <td>0.0</td>\n",
       "      <td>0.0</td>\n",
       "      <td>0.0</td>\n",
       "      <td>0.0</td>\n",
       "      <td>0.0</td>\n",
       "      <td>0.0</td>\n",
       "      <td>0.0</td>\n",
       "      <td>0.0</td>\n",
       "      <td>...</td>\n",
       "      <td>0.081486</td>\n",
       "      <td>0.168561</td>\n",
       "      <td>0.100611</td>\n",
       "      <td>0.212706</td>\n",
       "      <td>0.315850</td>\n",
       "      <td>0.161581</td>\n",
       "      <td>0.082769</td>\n",
       "      <td>0.209683</td>\n",
       "      <td>0.153034</td>\n",
       "      <td>0.240892</td>\n",
       "    </tr>\n",
       "    <tr>\n",
       "      <th>67</th>\n",
       "      <td>0.0</td>\n",
       "      <td>0.0</td>\n",
       "      <td>0.0</td>\n",
       "      <td>1.0</td>\n",
       "      <td>1.0</td>\n",
       "      <td>0.0</td>\n",
       "      <td>0.0</td>\n",
       "      <td>1.0</td>\n",
       "      <td>0.0</td>\n",
       "      <td>0.0</td>\n",
       "      <td>...</td>\n",
       "      <td>0.082657</td>\n",
       "      <td>0.167759</td>\n",
       "      <td>0.098655</td>\n",
       "      <td>0.214639</td>\n",
       "      <td>0.322310</td>\n",
       "      <td>0.159059</td>\n",
       "      <td>0.081888</td>\n",
       "      <td>0.206435</td>\n",
       "      <td>0.153646</td>\n",
       "      <td>0.244647</td>\n",
       "    </tr>\n",
       "    <tr>\n",
       "      <th>53</th>\n",
       "      <td>0.0</td>\n",
       "      <td>0.0</td>\n",
       "      <td>0.0</td>\n",
       "      <td>1.0</td>\n",
       "      <td>0.0</td>\n",
       "      <td>0.0</td>\n",
       "      <td>0.0</td>\n",
       "      <td>0.0</td>\n",
       "      <td>0.0</td>\n",
       "      <td>0.0</td>\n",
       "      <td>...</td>\n",
       "      <td>0.084648</td>\n",
       "      <td>0.167805</td>\n",
       "      <td>0.094810</td>\n",
       "      <td>0.209665</td>\n",
       "      <td>0.305293</td>\n",
       "      <td>0.159351</td>\n",
       "      <td>0.082594</td>\n",
       "      <td>0.205208</td>\n",
       "      <td>0.151183</td>\n",
       "      <td>0.246352</td>\n",
       "    </tr>\n",
       "    <tr>\n",
       "      <th>49</th>\n",
       "      <td>0.0</td>\n",
       "      <td>0.0</td>\n",
       "      <td>0.0</td>\n",
       "      <td>0.0</td>\n",
       "      <td>0.0</td>\n",
       "      <td>1.0</td>\n",
       "      <td>1.0</td>\n",
       "      <td>0.0</td>\n",
       "      <td>0.0</td>\n",
       "      <td>1.0</td>\n",
       "      <td>...</td>\n",
       "      <td>0.080803</td>\n",
       "      <td>0.167455</td>\n",
       "      <td>0.099476</td>\n",
       "      <td>0.214428</td>\n",
       "      <td>0.331328</td>\n",
       "      <td>0.163185</td>\n",
       "      <td>0.081450</td>\n",
       "      <td>0.206188</td>\n",
       "      <td>0.154363</td>\n",
       "      <td>0.248615</td>\n",
       "    </tr>\n",
       "    <tr>\n",
       "      <th>43</th>\n",
       "      <td>0.0</td>\n",
       "      <td>0.0</td>\n",
       "      <td>0.0</td>\n",
       "      <td>0.0</td>\n",
       "      <td>0.0</td>\n",
       "      <td>1.0</td>\n",
       "      <td>0.0</td>\n",
       "      <td>1.0</td>\n",
       "      <td>0.0</td>\n",
       "      <td>1.0</td>\n",
       "      <td>...</td>\n",
       "      <td>0.085207</td>\n",
       "      <td>0.159476</td>\n",
       "      <td>0.099737</td>\n",
       "      <td>0.208431</td>\n",
       "      <td>0.291008</td>\n",
       "      <td>0.155782</td>\n",
       "      <td>0.083595</td>\n",
       "      <td>0.211686</td>\n",
       "      <td>0.151076</td>\n",
       "      <td>0.244791</td>\n",
       "    </tr>\n",
       "    <tr>\n",
       "      <th>59</th>\n",
       "      <td>0.0</td>\n",
       "      <td>1.0</td>\n",
       "      <td>0.0</td>\n",
       "      <td>0.0</td>\n",
       "      <td>0.0</td>\n",
       "      <td>0.0</td>\n",
       "      <td>0.0</td>\n",
       "      <td>0.0</td>\n",
       "      <td>0.0</td>\n",
       "      <td>0.0</td>\n",
       "      <td>...</td>\n",
       "      <td>0.082463</td>\n",
       "      <td>0.163164</td>\n",
       "      <td>0.096442</td>\n",
       "      <td>0.210039</td>\n",
       "      <td>0.315425</td>\n",
       "      <td>0.159427</td>\n",
       "      <td>0.084241</td>\n",
       "      <td>0.210745</td>\n",
       "      <td>0.152717</td>\n",
       "      <td>0.244361</td>\n",
       "    </tr>\n",
       "    <tr>\n",
       "      <th>51</th>\n",
       "      <td>0.0</td>\n",
       "      <td>1.0</td>\n",
       "      <td>0.0</td>\n",
       "      <td>1.0</td>\n",
       "      <td>1.0</td>\n",
       "      <td>1.0</td>\n",
       "      <td>1.0</td>\n",
       "      <td>0.0</td>\n",
       "      <td>0.0</td>\n",
       "      <td>1.0</td>\n",
       "      <td>...</td>\n",
       "      <td>0.088143</td>\n",
       "      <td>0.167885</td>\n",
       "      <td>0.097562</td>\n",
       "      <td>0.201329</td>\n",
       "      <td>0.301161</td>\n",
       "      <td>0.155954</td>\n",
       "      <td>0.086503</td>\n",
       "      <td>0.204482</td>\n",
       "      <td>0.145885</td>\n",
       "      <td>0.249078</td>\n",
       "    </tr>\n",
       "    <tr>\n",
       "      <th>61</th>\n",
       "      <td>0.0</td>\n",
       "      <td>0.0</td>\n",
       "      <td>0.0</td>\n",
       "      <td>0.0</td>\n",
       "      <td>1.0</td>\n",
       "      <td>0.0</td>\n",
       "      <td>1.0</td>\n",
       "      <td>1.0</td>\n",
       "      <td>0.0</td>\n",
       "      <td>0.0</td>\n",
       "      <td>...</td>\n",
       "      <td>0.081826</td>\n",
       "      <td>0.169489</td>\n",
       "      <td>0.095768</td>\n",
       "      <td>0.209851</td>\n",
       "      <td>0.313786</td>\n",
       "      <td>0.155513</td>\n",
       "      <td>0.082613</td>\n",
       "      <td>0.210100</td>\n",
       "      <td>0.154711</td>\n",
       "      <td>0.247843</td>\n",
       "    </tr>\n",
       "    <tr>\n",
       "      <th>56</th>\n",
       "      <td>0.0</td>\n",
       "      <td>0.0</td>\n",
       "      <td>0.0</td>\n",
       "      <td>0.0</td>\n",
       "      <td>0.0</td>\n",
       "      <td>0.0</td>\n",
       "      <td>1.0</td>\n",
       "      <td>0.0</td>\n",
       "      <td>0.0</td>\n",
       "      <td>0.0</td>\n",
       "      <td>...</td>\n",
       "      <td>0.084826</td>\n",
       "      <td>0.165772</td>\n",
       "      <td>0.098220</td>\n",
       "      <td>0.213079</td>\n",
       "      <td>0.304820</td>\n",
       "      <td>0.153859</td>\n",
       "      <td>0.080303</td>\n",
       "      <td>0.210644</td>\n",
       "      <td>0.150331</td>\n",
       "      <td>0.245814</td>\n",
       "    </tr>\n",
       "    <tr>\n",
       "      <th>17</th>\n",
       "      <td>0.0</td>\n",
       "      <td>0.0</td>\n",
       "      <td>0.0</td>\n",
       "      <td>1.0</td>\n",
       "      <td>1.0</td>\n",
       "      <td>1.0</td>\n",
       "      <td>1.0</td>\n",
       "      <td>1.0</td>\n",
       "      <td>0.0</td>\n",
       "      <td>1.0</td>\n",
       "      <td>...</td>\n",
       "      <td>0.080191</td>\n",
       "      <td>0.163847</td>\n",
       "      <td>0.102230</td>\n",
       "      <td>0.216531</td>\n",
       "      <td>0.332845</td>\n",
       "      <td>0.165208</td>\n",
       "      <td>0.082596</td>\n",
       "      <td>0.207172</td>\n",
       "      <td>0.154767</td>\n",
       "      <td>0.243142</td>\n",
       "    </tr>\n",
       "    <tr>\n",
       "      <th>58</th>\n",
       "      <td>0.0</td>\n",
       "      <td>0.0</td>\n",
       "      <td>0.0</td>\n",
       "      <td>1.0</td>\n",
       "      <td>0.0</td>\n",
       "      <td>0.0</td>\n",
       "      <td>0.0</td>\n",
       "      <td>0.0</td>\n",
       "      <td>0.0</td>\n",
       "      <td>0.0</td>\n",
       "      <td>...</td>\n",
       "      <td>0.082114</td>\n",
       "      <td>0.167352</td>\n",
       "      <td>0.094636</td>\n",
       "      <td>0.212006</td>\n",
       "      <td>0.315306</td>\n",
       "      <td>0.158139</td>\n",
       "      <td>0.082063</td>\n",
       "      <td>0.208805</td>\n",
       "      <td>0.157577</td>\n",
       "      <td>0.246628</td>\n",
       "    </tr>\n",
       "  </tbody>\n",
       "</table>\n",
       "<p>22 rows × 24 columns</p>\n",
       "</div>"
      ],
      "text/plain": [
       "    server  data  etl  ca_scss  ca_webapp  cl_shared  cl_prov_search  cl_core  \\\n",
       "29     0.0   1.0  0.0      0.0        0.0        0.0             0.0      0.0   \n",
       "42     0.0   0.0  0.0      0.0        0.0        0.0             0.0      0.0   \n",
       "41     0.0   0.0  0.0      0.0        0.0        0.0             0.0      0.0   \n",
       "22     0.0   0.0  0.0      1.0        0.0        0.0             0.0      0.0   \n",
       "16     0.0   0.0  0.0      0.0        0.0        0.0             1.0      0.0   \n",
       "52     0.0   0.0  0.0      0.0        0.0        0.0             1.0      0.0   \n",
       "50     0.0   0.0  0.0      0.0        0.0        0.0             0.0      0.0   \n",
       "8      0.0   1.0  0.0      0.0        0.0        0.0             0.0      0.0   \n",
       "72     0.0   0.0  0.0      0.0        0.0        0.0             1.0      0.0   \n",
       "36     0.0   1.0  1.0      0.0        0.0        0.0             0.0      0.0   \n",
       "24     0.0   0.0  0.0      0.0        0.0        1.0             0.0      0.0   \n",
       "48     0.0   0.0  0.0      0.0        0.0        0.0             0.0      0.0   \n",
       "67     0.0   0.0  0.0      1.0        1.0        0.0             0.0      1.0   \n",
       "53     0.0   0.0  0.0      1.0        0.0        0.0             0.0      0.0   \n",
       "49     0.0   0.0  0.0      0.0        0.0        1.0             1.0      0.0   \n",
       "43     0.0   0.0  0.0      0.0        0.0        1.0             0.0      1.0   \n",
       "59     0.0   1.0  0.0      0.0        0.0        0.0             0.0      0.0   \n",
       "51     0.0   1.0  0.0      1.0        1.0        1.0             1.0      0.0   \n",
       "61     0.0   0.0  0.0      0.0        1.0        0.0             1.0      1.0   \n",
       "56     0.0   0.0  0.0      0.0        0.0        0.0             1.0      0.0   \n",
       "17     0.0   0.0  0.0      1.0        1.0        1.0             1.0      1.0   \n",
       "58     0.0   0.0  0.0      1.0        0.0        0.0             0.0      0.0   \n",
       "\n",
       "    cl_mymedicare  cl_feat_pmeasure  ...         2         3         4  \\\n",
       "29            0.0               0.0  ...  0.082914  0.165982  0.095399   \n",
       "42            0.0               0.0  ...  0.082127  0.169451  0.098387   \n",
       "41            0.0               1.0  ...  0.082925  0.161663  0.098639   \n",
       "22            0.0               0.0  ...  0.083713  0.158698  0.098961   \n",
       "16            0.0               0.0  ...  0.082121  0.164059  0.098020   \n",
       "52            0.0               0.0  ...  0.084061  0.167031  0.100887   \n",
       "50            0.0               0.0  ...  0.083790  0.162927  0.097339   \n",
       "8             0.0               0.0  ...  0.082755  0.163863  0.098617   \n",
       "72            0.0               0.0  ...  0.086581  0.159002  0.096086   \n",
       "36            0.0               0.0  ...  0.080937  0.161170  0.098965   \n",
       "24            0.0               0.0  ...  0.081376  0.162969  0.098439   \n",
       "48            0.0               0.0  ...  0.081486  0.168561  0.100611   \n",
       "67            0.0               0.0  ...  0.082657  0.167759  0.098655   \n",
       "53            0.0               0.0  ...  0.084648  0.167805  0.094810   \n",
       "49            0.0               1.0  ...  0.080803  0.167455  0.099476   \n",
       "43            0.0               1.0  ...  0.085207  0.159476  0.099737   \n",
       "59            0.0               0.0  ...  0.082463  0.163164  0.096442   \n",
       "51            0.0               1.0  ...  0.088143  0.167885  0.097562   \n",
       "61            0.0               0.0  ...  0.081826  0.169489  0.095768   \n",
       "56            0.0               0.0  ...  0.084826  0.165772  0.098220   \n",
       "17            0.0               1.0  ...  0.080191  0.163847  0.102230   \n",
       "58            0.0               0.0  ...  0.082114  0.167352  0.094636   \n",
       "\n",
       "           5         6         7         8         9        10        11  \n",
       "29  0.209567  0.317052  0.160428  0.083883  0.207885  0.151077  0.243107  \n",
       "42  0.208512  0.315435  0.160701  0.084264  0.207709  0.152380  0.241811  \n",
       "41  0.215067  0.314653  0.157881  0.081246  0.212061  0.151295  0.244579  \n",
       "22  0.208294  0.284234  0.158101  0.084922  0.222925  0.155566  0.248283  \n",
       "16  0.212873  0.301388  0.155110  0.082878  0.220059  0.156616  0.246822  \n",
       "52  0.206386  0.308870  0.160123  0.085569  0.203595  0.151621  0.244397  \n",
       "50  0.211615  0.311348  0.164253  0.084746  0.205819  0.152102  0.238635  \n",
       "8   0.211081  0.299908  0.158560  0.084079  0.214208  0.156421  0.247714  \n",
       "72  0.207022  0.297036  0.154622  0.084357  0.217445  0.155407  0.245152  \n",
       "36  0.210993  0.315207  0.157960  0.082260  0.218708  0.153358  0.243819  \n",
       "24  0.213022  0.311119  0.163245  0.082615  0.215579  0.154246  0.240601  \n",
       "48  0.212706  0.315850  0.161581  0.082769  0.209683  0.153034  0.240892  \n",
       "67  0.214639  0.322310  0.159059  0.081888  0.206435  0.153646  0.244647  \n",
       "53  0.209665  0.305293  0.159351  0.082594  0.205208  0.151183  0.246352  \n",
       "49  0.214428  0.331328  0.163185  0.081450  0.206188  0.154363  0.248615  \n",
       "43  0.208431  0.291008  0.155782  0.083595  0.211686  0.151076  0.244791  \n",
       "59  0.210039  0.315425  0.159427  0.084241  0.210745  0.152717  0.244361  \n",
       "51  0.201329  0.301161  0.155954  0.086503  0.204482  0.145885  0.249078  \n",
       "61  0.209851  0.313786  0.155513  0.082613  0.210100  0.154711  0.247843  \n",
       "56  0.213079  0.304820  0.153859  0.080303  0.210644  0.150331  0.245814  \n",
       "17  0.216531  0.332845  0.165208  0.082596  0.207172  0.154767  0.243142  \n",
       "58  0.212006  0.315306  0.158139  0.082063  0.208805  0.157577  0.246628  \n",
       "\n",
       "[22 rows x 24 columns]"
      ]
     },
     "execution_count": 40,
     "metadata": {},
     "output_type": "execute_result"
    }
   ],
   "source": [
    "roberta_test = roberta_out.loc[:,['server','data','etl','ca_scss','ca_webapp','cl_shared',\n",
    "                                  'cl_prov_search','cl_core','cl_mymedicare','cl_feat_pmeasure',\n",
    "                                  'cl_feat_pdetails','cl_feat_pcompare',\n",
    "                                  0,1,2,3,4,5,6,7,8,9,10,11]]\n",
    "roberta_test"
   ]
  },
  {
   "cell_type": "code",
   "execution_count": 41,
   "metadata": {},
   "outputs": [],
   "source": [
    "roberta_out.to_csv('Roberta_Output_12_Label_basic_clean_no_img_10.06.2022.csv')"
   ]
  },
  {
   "cell_type": "code",
   "execution_count": 42,
   "metadata": {},
   "outputs": [],
   "source": [
    "#1. 'server',\n",
    "roberta_server_true=list(zip(roberta_out.server.tolist()))\n",
    "roberta_server_score= list(zip(roberta_out[0].tolist()))\n",
    "\n",
    "#2. 'data',\n",
    "roberta_data_true=list(zip(roberta_out.data.tolist()))\n",
    "roberta_data_score=list(zip(roberta_out[1].tolist()))\n",
    "\n",
    "#3. 'etl',\n",
    "roberta_etl_true=list(zip(roberta_out.etl.tolist()))\n",
    "roberta_etl_score=list(zip(roberta_out[2].tolist()))\n",
    "\n",
    "#4. 'ca_scss',\n",
    "roberta_ca_scss_true=list(zip(roberta_out.ca_scss.tolist()))\n",
    "roberta_ca_scss_score=list(zip(roberta_out[3].tolist()))\n",
    "\n",
    "#5. 'ca_webapp',\n",
    "roberta_ca_webapp_true=list(zip(roberta_out.ca_webapp.tolist()))\n",
    "roberta_ca_webapp_score=list(zip(roberta_out[4].tolist()))\n",
    "\n",
    "#6. 'cl_shared',\n",
    "roberta_cl_shared_true=list(zip(roberta_out.cl_shared.tolist()))\n",
    "roberta_cl_shared_score=list(zip(roberta_out[5].tolist()))\n",
    "\n",
    "#7. 'cl_prov_search',\n",
    "roberta_cl_prov_search_true=list(zip(roberta_out.cl_prov_search.tolist()))\n",
    "roberta_cl_prov_search_score=list(zip(roberta_out[6].tolist()))\n",
    "\n",
    "#8. 'cl_core',\n",
    "roberta_cl_core_true=list(zip(roberta_out.cl_core.tolist()))\n",
    "roberta_cl_core_score=list(zip(roberta_out[7].tolist()))\n",
    "\n",
    "#9. 'cl_mymedicare',\n",
    "roberta_cl_mymedicare_true=list(zip(roberta_out.cl_mymedicare.tolist()))\n",
    "roberta_cl_mymedicare_score=list(zip(roberta_out[8].tolist()))\n",
    "\n",
    "#10. 'cl_feat_pmeasure',\n",
    "roberta_cl_feat_pmeasure_true=list(zip(roberta_out.cl_feat_pmeasure.tolist()))\n",
    "roberta_cl_feat_pmeasure_score=list(zip(roberta_out[9].tolist()))\n",
    "\n",
    "#11. 'cl_feat_pdetails',\n",
    "roberta_cl_feat_pdetails_true=list(zip(roberta_out.cl_feat_pdetails.tolist()))\n",
    "roberta_cl_feat_pdetails_score=list(zip(roberta_out[10].tolist()))\n",
    "\n",
    "#12. 'cl_feat_pcompare',\n",
    "roberta_cl_feat_pcompare_true=list(zip(roberta_out.cl_feat_pcompare.tolist()))\n",
    "roberta_cl_feat_pcompare_score=list(zip(roberta_out[11].tolist()))"
   ]
  },
  {
   "cell_type": "markdown",
   "metadata": {},
   "source": [
    "## Predictions at Threshold .7 and Confusion Matrix Preparation"
   ]
  },
  {
   "cell_type": "code",
   "execution_count": 43,
   "metadata": {},
   "outputs": [],
   "source": [
    "import numpy as np\n",
    "########################################################\n",
    "####### Label 1: Server\n",
    "# Pred Binary Conversion at Threshold .7\n",
    "roberta_server_pred=[]\n",
    "for sample in roberta_server_score:\n",
    "  roberta_server_pred.append([1 if i>=0.7 else 0 for i in sample ] )\n",
    "roberta_server_pred = np.array(roberta_server_pred)\n",
    "\n",
    "## Create Confusion Matrix for Label\n",
    "ccxp_server_cm = multilabel_confusion_matrix(roberta_server_true,roberta_server_pred)\n",
    "ccxp_server_cm_plt=ccxp_server_cm.reshape(2,2)\n",
    "\n",
    "########################################################\n",
    "###### Label 2: Data\n",
    "# Pred Binary Conversion at Threshold .7\n",
    "roberta_data_pred=[]\n",
    "for sample in roberta_data_score:\n",
    "  roberta_data_pred.append([1 if i>=0.7 else 0 for i in sample ] )\n",
    "roberta_data_pred = np.array(roberta_data_pred)\n",
    "\n",
    "## Creation Confusion Matrix for Label\n",
    "ccxp_data_cm = confusion_matrix(roberta_data_true,roberta_data_pred)\n",
    "ccxp_data_cm_plt=ccxp_data_cm.reshape(2,2)\n",
    "\n",
    "########################################################\n",
    "##### Label 3: Etl\n",
    "# Pred Binary Conversion at Threshold .7\n",
    "roberta_etl_pred=[]\n",
    "for sample in roberta_etl_score:\n",
    "  roberta_etl_pred.append([1 if i>=0.7 else 0 for i in sample ] )\n",
    "roberta_etl_pred = np.array(roberta_etl_pred)\n",
    "# Creation Confusion Matrix for Label\n",
    "ccxp_etl_cm = confusion_matrix(roberta_etl_true,roberta_etl_pred)\n",
    "ccxp_etl_cm_plt=ccxp_etl_cm.reshape(2,2)\n",
    "\n",
    "########################################################\n",
    "###### Label 4: ca_scss\n",
    "# Pred Binary Conversion at Threshold .7\n",
    "roberta_ca_scss_pred=[]\n",
    "for sample in roberta_ca_scss_score:\n",
    "  roberta_ca_scss_pred.append([1 if i>=0.7 else 0 for i in sample ] )\n",
    "roberta_ca_scss_pred = np.array(roberta_ca_scss_pred)\n",
    "# Creation Confusion Matrix for Label\n",
    "ccxp_ca_scss_cm = confusion_matrix(roberta_ca_scss_true,roberta_ca_scss_pred)\n",
    "ccxp_ca_scss_cm_plt=ccxp_ca_scss_cm.reshape(2,2)\n",
    "\n",
    "##########################################################\n",
    "######### Label 5 CA_Webapp\n",
    "# a. Pred Binary Conversion at Threshold .7\n",
    "roberta_ca_webapp_pred=[]\n",
    "for sample in roberta_ca_webapp_score:\n",
    "  roberta_ca_webapp_pred.append([1 if i>=0.7 else 0 for i in sample ] )\n",
    "roberta_ca_webapp_pred = np.array(roberta_ca_webapp_pred)\n",
    "# b. Creation Confusion Matrix for Label\n",
    "ccxp_ca_webapp_cm = confusion_matrix(roberta_ca_webapp_true,roberta_ca_webapp_pred)\n",
    "ccxp_ca_webapp_cm_plt=ccxp_ca_webapp_cm.reshape(2,2)\n",
    "\n",
    "########################################################\n",
    "######## Label 6. Client Libs Shared\n",
    "# a. Prediction conversion at Threshold .7\n",
    "roberta_cl_shared_pred=[]\n",
    "for sample in roberta_cl_shared_score:\n",
    "  roberta_cl_shared_pred.append([1 if i>=0.7 else 0 for i in sample ] )\n",
    "roberta_cl_shared_pred = np.array(roberta_cl_shared_pred)\n",
    "# b. Creation Confusion Matrix for Label\n",
    "ccxp_cl_shared_cm = confusion_matrix(roberta_cl_shared_true,roberta_cl_shared_pred)\n",
    "ccxp_cl_shared_cm_plt=ccxp_cl_shared_cm.reshape(2,2)\n",
    "\n",
    "########################################################\n",
    "########## Label 7: Client Libs Provider Search\n",
    "roberta_cl_prov_search_pred=[]\n",
    "for sample in roberta_cl_prov_search_score:\n",
    "  roberta_cl_prov_search_pred.append([1 if i>=0.7 else 0 for i in sample ] )\n",
    "roberta_cl_prov_search_pred = np.array(roberta_cl_prov_search_pred)\n",
    "# c. Creation Confusion Matrix for Label\n",
    "ccxp_cl_prov_search_cm = confusion_matrix(roberta_cl_prov_search_true,roberta_cl_prov_search_pred)\n",
    "ccxp_cl_prov_search_cm_plt=ccxp_cl_prov_search_cm.reshape(2,2)\n",
    "\n",
    "#########################################################\n",
    "############ Label 8: Client Libs Core\n",
    "roberta_cl_core_pred=[]\n",
    "for sample in roberta_cl_core_score:\n",
    "  roberta_cl_core_pred.append([1 if i>=0.7 else 0 for i in sample ] )\n",
    "roberta_cl_core_pred = np.array(roberta_cl_core_pred)\n",
    "\n",
    "# c. Creation Confusion Matrix for Client Libs Core Label\n",
    "ccxp_cl_core_cm = confusion_matrix(roberta_cl_core_true,roberta_cl_core_pred)\n",
    "ccxp_cl_core_cm_plt=ccxp_cl_core_cm.reshape(2,2)\n",
    "\n",
    "#############################################################\n",
    "############ Label 9 Client libs MyMedicare Label\n",
    "roberta_cl_mymedicare_pred=[]\n",
    "for sample in roberta_cl_mymedicare_score:\n",
    "  roberta_cl_mymedicare_pred.append([1 if i>=0.7 else 0 for i in sample ] )\n",
    "roberta_cl_mymedicare_pred = np.array(roberta_cl_mymedicare_pred)\n",
    "\n",
    "# c. Create Confusion Matrix for My Medicare Label\n",
    "ccxp_cl_mymedicare_cm = multilabel_confusion_matrix(roberta_cl_mymedicare_true,roberta_cl_mymedicare_pred)\n",
    "ccxp_cl_mymedicare_cm_plt=ccxp_cl_mymedicare_cm.reshape(2,2)\n",
    "\n",
    "###############################################################\n",
    "############ Label 10: Client Libs features Provider Measure Label\n",
    "roberta_cl_feat_pmeasure_pred=[]\n",
    "for sample in roberta_cl_feat_pmeasure_score:\n",
    "  roberta_cl_feat_pmeasure_pred.append([1 if i>=0.7 else 0 for i in sample ] )\n",
    "roberta_cl_feat_pmeasure_pred = np.array(roberta_cl_feat_pmeasure_pred)\n",
    "\n",
    "# c. Create Confusion Matrix for Client Libs Features Provider Measure Label\n",
    "ccxp_cl_feat_pmeasure_cm = confusion_matrix(roberta_cl_feat_pmeasure_true,roberta_cl_feat_pmeasure_pred)\n",
    "ccxp_cl_feat_pmeasure_cm_plt=ccxp_cl_feat_pmeasure_cm.reshape(2,2)\n",
    "\n",
    "#############################\n",
    "############ Label 11:  Client Libs Features Provider Details\n",
    "roberta_cl_feat_pdetails_pred=[]\n",
    "for sample in roberta_cl_feat_pdetails_score:\n",
    "  roberta_cl_feat_pdetails_pred.append([1 if i>=0.7 else 0 for i in sample ] )\n",
    "roberta_cl_feat_pdetails_pred = np.array(roberta_cl_feat_pdetails_pred)\n",
    "\n",
    "# c. Create Confusion Matrix for Client Libs Features Provider Details\n",
    "ccxp_cl_feat_pdetails_cm = confusion_matrix(roberta_cl_feat_pdetails_true,roberta_cl_feat_pdetails_pred)\n",
    "ccxp_cl_feat_pdetails_cm_plt=ccxp_cl_feat_pdetails_cm.reshape(2,2)\n",
    "\n",
    "##############################\n",
    "############ Label 12: Client Libs Features Provider Compare\n",
    "roberta_cl_feat_pcompare_pred=[]\n",
    "for sample in roberta_cl_feat_pcompare_score:\n",
    "  roberta_cl_feat_pcompare_pred.append([1 if i>=0.7 else 0 for i in sample ] )\n",
    "roberta_cl_feat_pcompare_pred= np.array(roberta_cl_feat_pcompare_pred)\n",
    "\n",
    "# c. Create Confusion Matrix for Client Libs Features Provider Compare\n",
    "ccxp_cl_feat_pcompare_cm = confusion_matrix(roberta_cl_feat_pcompare_true,roberta_cl_feat_pcompare_pred)\n",
    "ccxp_cl_feat_pcompare_cm_plt=ccxp_cl_feat_pcompare_cm.reshape(2,2)"
   ]
  },
  {
   "cell_type": "markdown",
   "metadata": {},
   "source": [
    "## Plot Confusion Matrices for 12 Labels"
   ]
  },
  {
   "cell_type": "code",
   "execution_count": 44,
   "metadata": {},
   "outputs": [
    {
     "data": {
      "image/png": "[encoded data removed]",
      "text/plain": [
       "<Figure size 432x288 with 2 Axes>"
      ]
     },
     "metadata": {
      "needs_background": "light"
     },
     "output_type": "display_data"
    }
   ],
   "source": [
    "import seaborn as sns\n",
    "#Label 1: server\n",
    "group_names = ['True Neg','False Pos','False Neg','True Pos']\n",
    "group_counts = ['{0:0.0f}'.format(value) for value in\n",
    "                ccxp_server_cm_plt.flatten()]\n",
    "group_percentages = ['{0:.2%}'.format(value) for value in\n",
    "                     ccxp_server_cm_plt.flatten()/np.sum(ccxp_server_cm_plt)]\n",
    "labels = [f'{v1}\\n{v2}\\n{v3}' for v1, v2, v3 in\n",
    "          zip(group_names,group_counts,group_percentages)]\n",
    "labels = np.asarray(labels).reshape(2,2)\n",
    "ax = plt.subplot()\n",
    "sns.set(font_scale=1.1) #edited as suggested\n",
    "ax = sns.heatmap(ccxp_server_cm_plt ,cmap='Blues', linewidth = 0.25 , fmt='',annot = labels)\n",
    "plt.title( \"1. CCXP Server Confusion Matrix\" )\n",
    "plt.show()"
   ]
  },
  {
   "cell_type": "code",
   "execution_count": 45,
   "metadata": {},
   "outputs": [
    {
     "data": {
      "image/png": "[encoded data removed]",
      "text/plain": [
       "<Figure size 432x288 with 2 Axes>"
      ]
     },
     "metadata": {},
     "output_type": "display_data"
    }
   ],
   "source": [
    "# Label 2: data\n",
    "group_names = ['True Neg','False Pos','False Neg','True Pos']\n",
    "group_counts = ['{0:0.0f}'.format(value) for value in\n",
    "                ccxp_data_cm_plt.flatten()]\n",
    "group_percentages = ['{0:.2%}'.format(value) for value in\n",
    "                     ccxp_data_cm_plt.flatten()/np.sum(ccxp_data_cm_plt)]\n",
    "labels = [f'{v1}\\n{v2}\\n{v3}' for v1, v2, v3 in\n",
    "          zip(group_names,group_counts,group_percentages)]\n",
    "labels = np.asarray(labels).reshape(2,2)\n",
    "ax = plt.subplot()\n",
    "sns.set(font_scale=1.1) #edited as suggested\n",
    "ax = sns.heatmap(ccxp_data_cm_plt ,cmap='Blues', linewidth = 0.25 , fmt='',annot = labels)\n",
    "plt.title( \"2. CCXP Data Confusion Matrix\" )\n",
    "plt.show()"
   ]
  },
  {
   "cell_type": "code",
   "execution_count": 46,
   "metadata": {},
   "outputs": [
    {
     "data": {
      "image/png": "[encoded data removed]",
      "text/plain": [
       "<Figure size 432x288 with 2 Axes>"
      ]
     },
     "metadata": {},
     "output_type": "display_data"
    }
   ],
   "source": [
    "# Label 3: etl\n",
    "group_names = ['True Neg','False Pos','False Neg','True Pos']\n",
    "group_counts = ['{0:0.0f}'.format(value) for value in\n",
    "                ccxp_etl_cm_plt.flatten()]\n",
    "group_percentages = ['{0:.2%}'.format(value) for value in\n",
    "                     ccxp_etl_cm_plt.flatten()/np.sum(ccxp_etl_cm_plt)]\n",
    "labels = [f'{v1}\\n{v2}\\n{v3}' for v1, v2, v3 in\n",
    "          zip(group_names,group_counts,group_percentages)]\n",
    "labels = np.asarray(labels).reshape(2,2)\n",
    "ax = plt.subplot()\n",
    "sns.set(font_scale=1.1) #edited as suggested\n",
    "ax = sns.heatmap(ccxp_etl_cm_plt ,cmap='Blues', linewidth = 0.25 , fmt='',annot = labels)\n",
    "plt.title( \"3. CCXP ETL Confusion Matrix- Roberta\" )\n",
    "plt.show()"
   ]
  },
  {
   "cell_type": "code",
   "execution_count": 47,
   "metadata": {},
   "outputs": [
    {
     "data": {
      "image/png": "[encoded data removed]",
      "text/plain": [
       "<Figure size 432x288 with 2 Axes>"
      ]
     },
     "metadata": {},
     "output_type": "display_data"
    }
   ],
   "source": [
    "# Label 4: ca_scss\n",
    "group_names = ['True Neg','False Pos','False Neg','True Pos']\n",
    "group_counts = ['{0:0.0f}'.format(value) for value in\n",
    "                ccxp_ca_scss_cm_plt.flatten()]\n",
    "group_percentages = ['{0:.2%}'.format(value) for value in\n",
    "                     ccxp_ca_scss_cm_plt.flatten()/np.sum(ccxp_ca_scss_cm_plt)]\n",
    "labels = [f'{v1}\\n{v2}\\n{v3}' for v1, v2, v3 in\n",
    "          zip(group_names,group_counts,group_percentages)]\n",
    "labels = np.asarray(labels).reshape(2,2)\n",
    "ax = plt.subplot()\n",
    "sns.set(font_scale=1.1) #edited as suggested\n",
    "ax = sns.heatmap(ccxp_ca_scss_cm_plt ,cmap='Blues', linewidth = 0.25 , fmt='',annot = labels)\n",
    "plt.title( \"4. CCXP-Client App-Webapp SCSS Confusion Matrix\" )\n",
    "plt.show()"
   ]
  },
  {
   "cell_type": "code",
   "execution_count": 48,
   "metadata": {},
   "outputs": [
    {
     "data": {
      "image/png": "[encoded data removed]",
      "text/plain": [
       "<Figure size 432x288 with 2 Axes>"
      ]
     },
     "metadata": {},
     "output_type": "display_data"
    }
   ],
   "source": [
    "# Label 5: ca_webapp\n",
    "group_names = ['True Neg','False Pos','False Neg','True Pos']\n",
    "group_counts = ['{0:0.0f}'.format(value) for value in\n",
    "                ccxp_ca_webapp_cm_plt.flatten()]\n",
    "group_percentages = ['{0:.2%}'.format(value) for value in\n",
    "                     ccxp_ca_webapp_cm_plt.flatten()/np.sum(ccxp_ca_webapp_cm_plt)]\n",
    "labels = [f'{v1}\\n{v2}\\n{v3}' for v1, v2, v3 in\n",
    "          zip(group_names,group_counts,group_percentages)]\n",
    "labels = np.asarray(labels).reshape(2,2)\n",
    "ax = plt.subplot()\n",
    "sns.set(font_scale=1.1) #edited as suggested\n",
    "ax = sns.heatmap(ccxp_ca_webapp_cm_plt ,cmap='Blues', linewidth = 0.25 , fmt='',annot = labels)\n",
    "plt.title( \"5. CCXP Client App- Webapp Confusion Matrix\" )\n",
    "plt.show()"
   ]
  },
  {
   "cell_type": "code",
   "execution_count": 49,
   "metadata": {},
   "outputs": [
    {
     "data": {
      "image/png": "[encoded data removed]",
      "text/plain": [
       "<Figure size 432x288 with 2 Axes>"
      ]
     },
     "metadata": {},
     "output_type": "display_data"
    }
   ],
   "source": [
    "# Label 6: cl_shared\n",
    "group_names = ['True Neg','False Pos','False Neg','True Pos']\n",
    "group_counts = ['{0:0.0f}'.format(value) for value in\n",
    "                ccxp_cl_shared_cm_plt.flatten()]\n",
    "group_percentages = ['{0:.2%}'.format(value) for value in\n",
    "                     ccxp_cl_shared_cm_plt.flatten()/np.sum(ccxp_cl_shared_cm_plt)]\n",
    "labels = [f'{v1}\\n{v2}\\n{v3}' for v1, v2, v3 in\n",
    "          zip(group_names,group_counts,group_percentages)]\n",
    "labels = np.asarray(labels).reshape(2,2)\n",
    "ax = plt.subplot()\n",
    "sns.set(font_scale=1.1) #edited as suggested\n",
    "ax = sns.heatmap(ccxp_cl_shared_cm_plt ,cmap='Blues', linewidth = 0.25 , fmt='',annot = labels)\n",
    "plt.title( \"6. CCXP Client Libs-Shared Confusion Matrix\" )\n",
    "plt.show()"
   ]
  },
  {
   "cell_type": "code",
   "execution_count": 50,
   "metadata": {},
   "outputs": [
    {
     "data": {
      "image/png": "[encoded data removed]",
      "text/plain": [
       "<Figure size 432x288 with 2 Axes>"
      ]
     },
     "metadata": {},
     "output_type": "display_data"
    }
   ],
   "source": [
    "# Label 7: cl_prov_search\n",
    "group_names = ['True Neg','False Pos','False Neg','True Pos']\n",
    "group_counts = ['{0:0.0f}'.format(value) for value in\n",
    "                ccxp_cl_prov_search_cm_plt.flatten()]\n",
    "group_percentages = ['{0:.2%}'.format(value) for value in\n",
    "                     ccxp_cl_prov_search_cm_plt.flatten()/np.sum(ccxp_cl_prov_search_cm_plt)]\n",
    "labels = [f'{v1}\\n{v2}\\n{v3}' for v1, v2, v3 in\n",
    "          zip(group_names,group_counts,group_percentages)]\n",
    "labels = np.asarray(labels).reshape(2,2)\n",
    "ax = plt.subplot()\n",
    "sns.set(font_scale=1.1) #edited as suggested\n",
    "ax = sns.heatmap(ccxp_cl_prov_search_cm_plt ,cmap='Blues', linewidth = 0.25 , fmt='',annot = labels)\n",
    "plt.title( \"7. CCXP Client Libs- Provider Search Confusion Matrix\" )\n",
    "plt.show()"
   ]
  },
  {
   "cell_type": "code",
   "execution_count": 51,
   "metadata": {},
   "outputs": [
    {
     "data": {
      "image/png": "[encoded data removed]",
      "text/plain": [
       "<Figure size 432x288 with 2 Axes>"
      ]
     },
     "metadata": {},
     "output_type": "display_data"
    }
   ],
   "source": [
    "# Label 8: cl_core\n",
    "group_names = ['True Neg','False Pos','False Neg','True Pos']\n",
    "group_counts = ['{0:0.0f}'.format(value) for value in\n",
    "                ccxp_server_cm_plt.flatten()]\n",
    "group_percentages = ['{0:.2%}'.format(value) for value in\n",
    "                     ccxp_cl_core_cm_plt.flatten()/np.sum(ccxp_cl_core_cm_plt)]\n",
    "labels = [f'{v1}\\n{v2}\\n{v3}' for v1, v2, v3 in\n",
    "          zip(group_names,group_counts,group_percentages)]\n",
    "labels = np.asarray(labels).reshape(2,2)\n",
    "ax = plt.subplot()\n",
    "sns.set(font_scale=1.1) #edited as suggested\n",
    "ax = sns.heatmap(ccxp_cl_core_cm_plt ,cmap='Blues', linewidth = 0.25 , fmt='',annot = labels)\n",
    "plt.title( \"8. CCXP Client Libs Core Confusion Matrix\" )\n",
    "plt.show()"
   ]
  },
  {
   "cell_type": "code",
   "execution_count": 52,
   "metadata": {},
   "outputs": [
    {
     "data": {
      "image/png": "[encoded data removed]",
      "text/plain": [
       "<Figure size 432x288 with 2 Axes>"
      ]
     },
     "metadata": {},
     "output_type": "display_data"
    }
   ],
   "source": [
    "# Label 9: cl_mymedicare\n",
    "group_names = ['True Neg','False Pos','False Neg','True Pos']\n",
    "group_counts = ['{0:0.0f}'.format(value) for value in\n",
    "                ccxp_cl_mymedicare_cm_plt.flatten()]\n",
    "group_percentages = ['{0:.2%}'.format(value) for value in\n",
    "                     ccxp_cl_mymedicare_cm_plt.flatten()/np.sum(ccxp_cl_mymedicare_cm_plt)]\n",
    "labels = [f'{v1}\\n{v2}\\n{v3}' for v1, v2, v3 in\n",
    "          zip(group_names,group_counts,group_percentages)]\n",
    "labels = np.asarray(labels).reshape(2,2)\n",
    "ax = plt.subplot()\n",
    "sns.set(font_scale=1.1) #edited as suggested\n",
    "ax = sns.heatmap(ccxp_cl_mymedicare_cm_plt ,cmap='Blues', linewidth = 0.25 , fmt='',annot = labels)\n",
    "plt.title( \"9. CCXP Client Libs-My Medicare Confusion Matrix\" )\n",
    "plt.show()"
   ]
  },
  {
   "cell_type": "code",
   "execution_count": 53,
   "metadata": {},
   "outputs": [
    {
     "data": {
      "image/png": "[encoded data removed]",
      "text/plain": [
       "<Figure size 432x288 with 2 Axes>"
      ]
     },
     "metadata": {},
     "output_type": "display_data"
    }
   ],
   "source": [
    "# Label 10 cl_feat_pmeasure\n",
    "group_names = ['True Neg','False Pos','False Neg','True Pos']\n",
    "group_counts = ['{0:0.0f}'.format(value) for value in\n",
    "                ccxp_cl_feat_pmeasure_cm_plt.flatten()]\n",
    "group_percentages = ['{0:.2%}'.format(value) for value in\n",
    "                     ccxp_cl_feat_pmeasure_cm_plt.flatten()/np.sum(ccxp_cl_feat_pmeasure_cm_plt)]\n",
    "labels = [f'{v1}\\n{v2}\\n{v3}' for v1, v2, v3 in\n",
    "          zip(group_names,group_counts,group_percentages)]\n",
    "labels = np.asarray(labels).reshape(2,2)\n",
    "ax = plt.subplot()\n",
    "sns.set(font_scale=1.1) #edited as suggested\n",
    "ax = sns.heatmap(ccxp_cl_feat_pmeasure_cm_plt ,cmap='Blues', linewidth = 0.25 , fmt='',annot = labels)\n",
    "plt.title( \"10. CCXP Client Libs Features- Provider Measures Confusion Matrix\" )\n",
    "plt.show()"
   ]
  },
  {
   "cell_type": "code",
   "execution_count": 54,
   "metadata": {},
   "outputs": [
    {
     "data": {
      "image/png": "[encoded data removed]",
      "text/plain": [
       "<Figure size 432x288 with 2 Axes>"
      ]
     },
     "metadata": {},
     "output_type": "display_data"
    }
   ],
   "source": [
    "# Label 11 cl_feat_pdetails\n",
    "group_names = ['True Neg','False Pos','False Neg','True Pos']\n",
    "group_counts = ['{0:0.0f}'.format(value) for value in\n",
    "                ccxp_cl_feat_pdetails_cm_plt.flatten()]\n",
    "group_percentages = ['{0:.2%}'.format(value) for value in\n",
    "                     ccxp_cl_feat_pdetails_cm_plt.flatten()/np.sum(ccxp_cl_feat_pdetails_cm_plt)]\n",
    "labels = [f'{v1}\\n{v2}\\n{v3}' for v1, v2, v3 in\n",
    "          zip(group_names,group_counts,group_percentages)]\n",
    "labels = np.asarray(labels).reshape(2,2)\n",
    "ax = plt.subplot()\n",
    "sns.set(font_scale=1.1) #edited as suggested\n",
    "ax = sns.heatmap(ccxp_cl_feat_pdetails_cm_plt ,cmap='Blues', linewidth = 0.25 , fmt='',annot = labels)\n",
    "plt.title( \"11. CCXP Client Libs Features: Provider Details Confusion Matrix\" )\n",
    "plt.show()"
   ]
  },
  {
   "cell_type": "code",
   "execution_count": 55,
   "metadata": {},
   "outputs": [
    {
     "data": {
      "image/png": "[encoded data removed]",
      "text/plain": [
       "<Figure size 432x288 with 2 Axes>"
      ]
     },
     "metadata": {},
     "output_type": "display_data"
    }
   ],
   "source": [
    "# Label 12 cl_feat_pcompare\n",
    "group_names = ['True Neg','False Pos','False Neg','True Pos']\n",
    "group_counts = ['{0:0.0f}'.format(value) for value in\n",
    "                ccxp_cl_feat_pcompare_cm_plt.flatten()]\n",
    "group_percentages = ['{0:.2%}'.format(value) for value in\n",
    "                     ccxp_cl_feat_pcompare_cm_plt.flatten()/np.sum(ccxp_cl_feat_pcompare_cm_plt)]\n",
    "labels = [f'{v1}\\n{v2}\\n{v3}' for v1, v2, v3 in\n",
    "          zip(group_names,group_counts,group_percentages)]\n",
    "labels = np.asarray(labels).reshape(2,2)\n",
    "ax = plt.subplot()\n",
    "sns.set(font_scale=1.1) #edited as suggested\n",
    "ax = sns.heatmap(ccxp_cl_feat_pcompare_cm_plt ,cmap='Blues', linewidth = 0.25 , fmt='',annot = labels)\n",
    "plt.title( \"12. CCXP Client Libs Features- Provider Compare Confusion Matrix\" )\n",
    "plt.show()"
   ]
  }
 ],
 "metadata": {
  "kernelspec": {
   "display_name": "Python 3",
   "language": "python",
   "name": "python3"
  },
  "language_info": {
   "codemirror_mode": {
    "name": "ipython",
    "version": 3
   },
   "file_extension": ".py",
   "mimetype": "text/x-python",
   "name": "python",
   "nbconvert_exporter": "python",
   "pygments_lexer": "ipython3",
   "version": "3.8.3"
  }
 },
 "nbformat": 4,
 "nbformat_minor": 5
}
